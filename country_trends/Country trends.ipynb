{
 "cells": [
  {
   "cell_type": "markdown",
   "metadata": {},
   "source": [
    "# Country search trends\n",
    "\n",
    "Previously, we measured Americans' expectations about how many casualties occurred during disasters in different countries. But there are many factors that might go into these judgments. Some might be general predictive properties--population, distance from the USA, etc.--but others might be more idiosyncratic--recent conflicts, actual earthquake baserates, etc. Here, we're going to try to identify some general predictors using Google trends data. To figure out good predictors, we're going to see how much countries care about each other as measured by how much they Google each other.\n",
    "\n",
    "Our measure for how much one Country A cares about Country B is going to be the log10 ratio of how much Country A searches for Country B divided by how much Country B searches for Country B. For example, [this search](https://www.google.com/trends/explore#q=%2Fm%2F0f8l9c%2C%20%2Fm%2F09c7w0&geo=US&date=1%2F2005%20133m&cmpt=q&tz=Etc%2FGMT%2B7) is going to allow us to see how much Americans care about the French. If we look at the summary bar graph, we're going to take log10(5/79). So, rule of thumb, less negative scores indicate the country is more searched."
   ]
  },
  {
   "cell_type": "code",
   "execution_count": 57,
   "metadata": {
    "collapsed": true
   },
   "outputs": [],
   "source": [
    "%matplotlib inline\n",
    "\n",
    "import csv\n",
    "import pandas as pd\n",
    "import numpy as np\n",
    "import scipy.stats as stats\n",
    "import statsmodels.api as sm \n",
    "import statsmodels.formula.api as smf\n",
    "from geopy.distance import vincenty\n",
    "import matplotlib.pyplot as plt\n",
    "import os\n",
    "import seaborn as sns\n",
    "sns.set(style=\"white\", color_codes=True)"
   ]
  },
  {
   "cell_type": "code",
   "execution_count": 310,
   "metadata": {
    "collapsed": true
   },
   "outputs": [],
   "source": [
    "# The lm code keeps setting off errors, but doesn't seem to be affecting anything\n",
    "import warnings\n",
    "\n",
    "# http://statsmodels.sourceforge.net/stable/examples/notebooks/generated/mixed_lm_example.html\n",
    "with warnings.catch_warnings():\n",
    "    warnings.filterwarnings(\"ignore\")\n",
    "    likev = mdf.profile_re(0, dist_low=0.00001, dist_high=0.1)"
   ]
  },
  {
   "cell_type": "markdown",
   "metadata": {},
   "source": [
    "Let's read the raw data into a csv"
   ]
  },
  {
   "cell_type": "code",
   "execution_count": 2,
   "metadata": {
    "collapsed": false
   },
   "outputs": [
    {
     "data": {
      "text/html": [
       "<div>\n",
       "<table border=\"1\" class=\"dataframe\">\n",
       "  <thead>\n",
       "    <tr style=\"text-align: right;\">\n",
       "      <th></th>\n",
       "      <th>0</th>\n",
       "      <th>1</th>\n",
       "      <th>2</th>\n",
       "      <th>3</th>\n",
       "      <th>4</th>\n",
       "      <th>5</th>\n",
       "      <th>6</th>\n",
       "      <th>7</th>\n",
       "      <th>8</th>\n",
       "      <th>9</th>\n",
       "      <th>...</th>\n",
       "      <th>31</th>\n",
       "      <th>32</th>\n",
       "      <th>33</th>\n",
       "      <th>34</th>\n",
       "      <th>35</th>\n",
       "      <th>36</th>\n",
       "      <th>37</th>\n",
       "      <th>38</th>\n",
       "      <th>39</th>\n",
       "      <th>40</th>\n",
       "    </tr>\n",
       "  </thead>\n",
       "  <tbody>\n",
       "    <tr>\n",
       "      <th>0</th>\n",
       "      <td>NaN</td>\n",
       "      <td>Nigeria</td>\n",
       "      <td>Japan</td>\n",
       "      <td>Pakistan</td>\n",
       "      <td>United States</td>\n",
       "      <td>France</td>\n",
       "      <td>Russia</td>\n",
       "      <td>Indonesia</td>\n",
       "      <td>Mexico</td>\n",
       "      <td>Rwanda</td>\n",
       "      <td>...</td>\n",
       "      <td>Germany</td>\n",
       "      <td>Spain</td>\n",
       "      <td>Thailand</td>\n",
       "      <td>South Africa</td>\n",
       "      <td>India</td>\n",
       "      <td>Australia</td>\n",
       "      <td>Brazil</td>\n",
       "      <td>Canada</td>\n",
       "      <td>Belgium</td>\n",
       "      <td>Netherlands</td>\n",
       "    </tr>\n",
       "    <tr>\n",
       "      <th>1</th>\n",
       "      <td>Nigeria</td>\n",
       "      <td>68</td>\n",
       "      <td>1</td>\n",
       "      <td>0</td>\n",
       "      <td>14</td>\n",
       "      <td>2</td>\n",
       "      <td>1</td>\n",
       "      <td>0</td>\n",
       "      <td>0</td>\n",
       "      <td>0</td>\n",
       "      <td>...</td>\n",
       "      <td>2</td>\n",
       "      <td>1</td>\n",
       "      <td>0</td>\n",
       "      <td>3</td>\n",
       "      <td>2</td>\n",
       "      <td>2</td>\n",
       "      <td>1</td>\n",
       "      <td>5</td>\n",
       "      <td>1</td>\n",
       "      <td>1</td>\n",
       "    </tr>\n",
       "    <tr>\n",
       "      <th>2</th>\n",
       "      <td>Japan</td>\n",
       "      <td>0</td>\n",
       "      <td>66</td>\n",
       "      <td>1</td>\n",
       "      <td>16</td>\n",
       "      <td>3</td>\n",
       "      <td>2</td>\n",
       "      <td>4</td>\n",
       "      <td>3</td>\n",
       "      <td>0</td>\n",
       "      <td>...</td>\n",
       "      <td>2</td>\n",
       "      <td>2</td>\n",
       "      <td>3</td>\n",
       "      <td>2</td>\n",
       "      <td>3</td>\n",
       "      <td>4</td>\n",
       "      <td>8</td>\n",
       "      <td>2</td>\n",
       "      <td>1</td>\n",
       "      <td>1</td>\n",
       "    </tr>\n",
       "    <tr>\n",
       "      <th>3</th>\n",
       "      <td>Pakistan</td>\n",
       "      <td>0</td>\n",
       "      <td>1</td>\n",
       "      <td>70</td>\n",
       "      <td>4</td>\n",
       "      <td>0</td>\n",
       "      <td>1</td>\n",
       "      <td>0</td>\n",
       "      <td>0</td>\n",
       "      <td>0</td>\n",
       "      <td>...</td>\n",
       "      <td>1</td>\n",
       "      <td>0</td>\n",
       "      <td>1</td>\n",
       "      <td>0</td>\n",
       "      <td>5</td>\n",
       "      <td>2</td>\n",
       "      <td>0</td>\n",
       "      <td>2</td>\n",
       "      <td>0</td>\n",
       "      <td>0</td>\n",
       "    </tr>\n",
       "    <tr>\n",
       "      <th>4</th>\n",
       "      <td>United States</td>\n",
       "      <td>1</td>\n",
       "      <td>6</td>\n",
       "      <td>2</td>\n",
       "      <td>80</td>\n",
       "      <td>5</td>\n",
       "      <td>5</td>\n",
       "      <td>1</td>\n",
       "      <td>14</td>\n",
       "      <td>0</td>\n",
       "      <td>...</td>\n",
       "      <td>5</td>\n",
       "      <td>4</td>\n",
       "      <td>2</td>\n",
       "      <td>2</td>\n",
       "      <td>9</td>\n",
       "      <td>6</td>\n",
       "      <td>8</td>\n",
       "      <td>12</td>\n",
       "      <td>1</td>\n",
       "      <td>1</td>\n",
       "    </tr>\n",
       "  </tbody>\n",
       "</table>\n",
       "<p>5 rows × 41 columns</p>\n",
       "</div>"
      ],
      "text/plain": [
       "              0        1      2         3              4       5       6   \\\n",
       "0            NaN  Nigeria  Japan  Pakistan  United States  France  Russia   \n",
       "1        Nigeria       68      1         0             14       2       1   \n",
       "2          Japan        0     66         1             16       3       2   \n",
       "3       Pakistan        0      1        70              4       0       1   \n",
       "4  United States        1      6         2             80       5       5   \n",
       "\n",
       "          7       8       9      ...            31     32        33  \\\n",
       "0  Indonesia  Mexico  Rwanda     ...       Germany  Spain  Thailand   \n",
       "1          0       0       0     ...             2      1         0   \n",
       "2          4       3       0     ...             2      2         3   \n",
       "3          0       0       0     ...             1      0         1   \n",
       "4          1      14       0     ...             5      4         2   \n",
       "\n",
       "             34     35         36      37      38       39           40  \n",
       "0  South Africa  India  Australia  Brazil  Canada  Belgium  Netherlands  \n",
       "1             3      2          2       1       5        1            1  \n",
       "2             2      3          4       8       2        1            1  \n",
       "3             0      5          2       0       2        0            0  \n",
       "4             2      9          6       8      12        1            1  \n",
       "\n",
       "[5 rows x 41 columns]"
      ]
     },
     "execution_count": 2,
     "metadata": {},
     "output_type": "execute_result"
    }
   ],
   "source": [
    "trends_df=pd.read_csv('country_trends.csv',header=None)\n",
    "trends_df.head()"
   ]
  },
  {
   "cell_type": "markdown",
   "metadata": {},
   "source": [
    "And now let's turn it into our country caring measure"
   ]
  },
  {
   "cell_type": "code",
   "execution_count": 3,
   "metadata": {
    "collapsed": false
   },
   "outputs": [],
   "source": [
    "self_df=pd.DataFrame({'self_num':[int(trends_df.iloc[i,i]) for i in range(1,41)],\n",
    " 'Searcher':[trends_df.iloc[0,i] for i in range(1,41)]})"
   ]
  },
  {
   "cell_type": "code",
   "execution_count": 120,
   "metadata": {
    "collapsed": false
   },
   "outputs": [
    {
     "data": {
      "text/html": [
       "<div>\n",
       "<table border=\"1\" class=\"dataframe\">\n",
       "  <thead>\n",
       "    <tr style=\"text-align: right;\">\n",
       "      <th></th>\n",
       "      <th>Searchee</th>\n",
       "      <th>Searcher</th>\n",
       "      <th>search_num</th>\n",
       "      <th>self_num</th>\n",
       "      <th>search_score</th>\n",
       "    </tr>\n",
       "  </thead>\n",
       "  <tbody>\n",
       "    <tr>\n",
       "      <th>0</th>\n",
       "      <td>Japan</td>\n",
       "      <td>Nigeria</td>\n",
       "      <td>1</td>\n",
       "      <td>68</td>\n",
       "      <td>-1.611521</td>\n",
       "    </tr>\n",
       "    <tr>\n",
       "      <th>1</th>\n",
       "      <td>Pakistan</td>\n",
       "      <td>Nigeria</td>\n",
       "      <td>0</td>\n",
       "      <td>68</td>\n",
       "      <td>-2.004321</td>\n",
       "    </tr>\n",
       "    <tr>\n",
       "      <th>2</th>\n",
       "      <td>United States</td>\n",
       "      <td>Nigeria</td>\n",
       "      <td>14</td>\n",
       "      <td>68</td>\n",
       "      <td>-0.670104</td>\n",
       "    </tr>\n",
       "    <tr>\n",
       "      <th>3</th>\n",
       "      <td>France</td>\n",
       "      <td>Nigeria</td>\n",
       "      <td>2</td>\n",
       "      <td>68</td>\n",
       "      <td>-1.408695</td>\n",
       "    </tr>\n",
       "    <tr>\n",
       "      <th>4</th>\n",
       "      <td>Russia</td>\n",
       "      <td>Nigeria</td>\n",
       "      <td>1</td>\n",
       "      <td>68</td>\n",
       "      <td>-1.611521</td>\n",
       "    </tr>\n",
       "  </tbody>\n",
       "</table>\n",
       "</div>"
      ],
      "text/plain": [
       "        Searchee Searcher  search_num  self_num  search_score\n",
       "0          Japan  Nigeria           1        68     -1.611521\n",
       "1       Pakistan  Nigeria           0        68     -2.004321\n",
       "2  United States  Nigeria          14        68     -0.670104\n",
       "3         France  Nigeria           2        68     -1.408695\n",
       "4         Russia  Nigeria           1        68     -1.611521"
      ]
     },
     "execution_count": 120,
     "metadata": {},
     "output_type": "execute_result"
    }
   ],
   "source": [
    "searcher=[]\n",
    "searchee=[]\n",
    "search_num=[]\n",
    "for s_er in range(1,41):\n",
    "    for s_ee in range(1,41):\n",
    "        if s_er!=s_ee:\n",
    "            searcher.append(trends_df.iloc[s_er,0])\n",
    "            searchee.append(trends_df.iloc[0,s_ee])        \n",
    "            search_num.append(int(trends_df.iloc[s_er,s_ee]))\n",
    "search_df=pd.DataFrame({'Searcher':searcher,'Searchee':searchee,'search_num':search_num})\n",
    "search_df=pd.merge(search_df,self_df,how='inner',on='Searcher')\n",
    "\n",
    "count_2= (search_df.loc[:,'search_num']+(search_df.loc[:,'self_num']/(100)))\n",
    "norm_2= (search_df.loc[:,'self_num']+(search_df.loc[:,'self_num']/(100)))\n",
    "search_df.loc[:,'search_score']=np.log10(count_2/norm_2)\n",
    "search_df.head()"
   ]
  },
  {
   "cell_type": "markdown",
   "metadata": {},
   "source": [
    "Ok, first analysis--What countries were searched the most?"
   ]
  },
  {
   "cell_type": "code",
   "execution_count": 121,
   "metadata": {
    "collapsed": false
   },
   "outputs": [],
   "source": [
    "mean_searchee=search_df.loc[:,['Searchee','search_score']].groupby('Searchee').mean().reset_index()\n",
    "mean_searchee.columns=['Searchee', 'mean']\n",
    "std_searchee=search_df.loc[:,['Searchee','search_score']].groupby('Searchee').std()\n",
    "num_search=np.sqrt(search_df.loc[:,['Searchee','search_score']].groupby('Searchee').size())\n",
    "sem_searchee=std_searchee.divide(num_search,axis=0).reset_index()\n",
    "sem_searchee.columns=['Searchee', 'SEM']\n",
    "\n",
    "searchee_df=pd.merge(mean_searchee,sem_searchee,how='inner',on='Searchee')\n",
    "searchee_df=searchee_df.sort_values(by='mean').reset_index()"
   ]
  },
  {
   "cell_type": "code",
   "execution_count": 122,
   "metadata": {
    "collapsed": false
   },
   "outputs": [
    {
     "data": {
      "text/html": [
       "<div>\n",
       "<table border=\"1\" class=\"dataframe\">\n",
       "  <thead>\n",
       "    <tr style=\"text-align: right;\">\n",
       "      <th></th>\n",
       "      <th>index</th>\n",
       "      <th>Searchee</th>\n",
       "      <th>mean</th>\n",
       "      <th>SEM</th>\n",
       "    </tr>\n",
       "  </thead>\n",
       "  <tbody>\n",
       "    <tr>\n",
       "      <th>0</th>\n",
       "      <td>20</td>\n",
       "      <td>Liberia</td>\n",
       "      <td>-2.004321</td>\n",
       "      <td>0.000000</td>\n",
       "    </tr>\n",
       "    <tr>\n",
       "      <th>1</th>\n",
       "      <td>12</td>\n",
       "      <td>Haiti</td>\n",
       "      <td>-1.995291</td>\n",
       "      <td>0.009030</td>\n",
       "    </tr>\n",
       "    <tr>\n",
       "      <th>2</th>\n",
       "      <td>29</td>\n",
       "      <td>Rwanda</td>\n",
       "      <td>-1.984597</td>\n",
       "      <td>0.019724</td>\n",
       "    </tr>\n",
       "    <tr>\n",
       "      <th>3</th>\n",
       "      <td>39</td>\n",
       "      <td>Yemen</td>\n",
       "      <td>-1.969791</td>\n",
       "      <td>0.024906</td>\n",
       "    </tr>\n",
       "    <tr>\n",
       "      <th>4</th>\n",
       "      <td>26</td>\n",
       "      <td>North Korea</td>\n",
       "      <td>-1.963354</td>\n",
       "      <td>0.024140</td>\n",
       "    </tr>\n",
       "    <tr>\n",
       "      <th>5</th>\n",
       "      <td>22</td>\n",
       "      <td>Nepal</td>\n",
       "      <td>-1.931742</td>\n",
       "      <td>0.028782</td>\n",
       "    </tr>\n",
       "    <tr>\n",
       "      <th>6</th>\n",
       "      <td>0</td>\n",
       "      <td>Afghanistan</td>\n",
       "      <td>-1.899238</td>\n",
       "      <td>0.032266</td>\n",
       "    </tr>\n",
       "    <tr>\n",
       "      <th>7</th>\n",
       "      <td>38</td>\n",
       "      <td>Venezuela</td>\n",
       "      <td>-1.892080</td>\n",
       "      <td>0.040410</td>\n",
       "    </tr>\n",
       "    <tr>\n",
       "      <th>8</th>\n",
       "      <td>19</td>\n",
       "      <td>Jordan</td>\n",
       "      <td>-1.877866</td>\n",
       "      <td>0.035829</td>\n",
       "    </tr>\n",
       "    <tr>\n",
       "      <th>9</th>\n",
       "      <td>14</td>\n",
       "      <td>Indonesia</td>\n",
       "      <td>-1.869191</td>\n",
       "      <td>0.044479</td>\n",
       "    </tr>\n",
       "    <tr>\n",
       "      <th>10</th>\n",
       "      <td>6</td>\n",
       "      <td>Cuba</td>\n",
       "      <td>-1.851666</td>\n",
       "      <td>0.040018</td>\n",
       "    </tr>\n",
       "    <tr>\n",
       "      <th>11</th>\n",
       "      <td>36</td>\n",
       "      <td>Ukraine</td>\n",
       "      <td>-1.842503</td>\n",
       "      <td>0.045969</td>\n",
       "    </tr>\n",
       "    <tr>\n",
       "      <th>12</th>\n",
       "      <td>25</td>\n",
       "      <td>Nigeria</td>\n",
       "      <td>-1.832197</td>\n",
       "      <td>0.063600</td>\n",
       "    </tr>\n",
       "    <tr>\n",
       "      <th>13</th>\n",
       "      <td>33</td>\n",
       "      <td>Syria</td>\n",
       "      <td>-1.797679</td>\n",
       "      <td>0.047828</td>\n",
       "    </tr>\n",
       "    <tr>\n",
       "      <th>14</th>\n",
       "      <td>30</td>\n",
       "      <td>Saudi Arabia</td>\n",
       "      <td>-1.790697</td>\n",
       "      <td>0.051889</td>\n",
       "    </tr>\n",
       "    <tr>\n",
       "      <th>15</th>\n",
       "      <td>17</td>\n",
       "      <td>Israel</td>\n",
       "      <td>-1.790212</td>\n",
       "      <td>0.043969</td>\n",
       "    </tr>\n",
       "    <tr>\n",
       "      <th>16</th>\n",
       "      <td>27</td>\n",
       "      <td>Pakistan</td>\n",
       "      <td>-1.778736</td>\n",
       "      <td>0.056963</td>\n",
       "    </tr>\n",
       "    <tr>\n",
       "      <th>17</th>\n",
       "      <td>2</td>\n",
       "      <td>Belgium</td>\n",
       "      <td>-1.765381</td>\n",
       "      <td>0.055894</td>\n",
       "    </tr>\n",
       "    <tr>\n",
       "      <th>18</th>\n",
       "      <td>16</td>\n",
       "      <td>Iraq</td>\n",
       "      <td>-1.761257</td>\n",
       "      <td>0.054279</td>\n",
       "    </tr>\n",
       "    <tr>\n",
       "      <th>19</th>\n",
       "      <td>24</td>\n",
       "      <td>New Zealand</td>\n",
       "      <td>-1.751357</td>\n",
       "      <td>0.052748</td>\n",
       "    </tr>\n",
       "    <tr>\n",
       "      <th>20</th>\n",
       "      <td>31</td>\n",
       "      <td>South Africa</td>\n",
       "      <td>-1.743461</td>\n",
       "      <td>0.058657</td>\n",
       "    </tr>\n",
       "    <tr>\n",
       "      <th>21</th>\n",
       "      <td>11</td>\n",
       "      <td>Greece</td>\n",
       "      <td>-1.736765</td>\n",
       "      <td>0.056683</td>\n",
       "    </tr>\n",
       "    <tr>\n",
       "      <th>22</th>\n",
       "      <td>15</td>\n",
       "      <td>Iran</td>\n",
       "      <td>-1.728456</td>\n",
       "      <td>0.053405</td>\n",
       "    </tr>\n",
       "    <tr>\n",
       "      <th>23</th>\n",
       "      <td>23</td>\n",
       "      <td>Netherlands</td>\n",
       "      <td>-1.712469</td>\n",
       "      <td>0.060297</td>\n",
       "    </tr>\n",
       "    <tr>\n",
       "      <th>24</th>\n",
       "      <td>21</td>\n",
       "      <td>Mexico</td>\n",
       "      <td>-1.704478</td>\n",
       "      <td>0.060778</td>\n",
       "    </tr>\n",
       "    <tr>\n",
       "      <th>25</th>\n",
       "      <td>8</td>\n",
       "      <td>England</td>\n",
       "      <td>-1.688073</td>\n",
       "      <td>0.050417</td>\n",
       "    </tr>\n",
       "    <tr>\n",
       "      <th>26</th>\n",
       "      <td>34</td>\n",
       "      <td>Thailand</td>\n",
       "      <td>-1.665311</td>\n",
       "      <td>0.054647</td>\n",
       "    </tr>\n",
       "    <tr>\n",
       "      <th>27</th>\n",
       "      <td>35</td>\n",
       "      <td>Turkey</td>\n",
       "      <td>-1.604628</td>\n",
       "      <td>0.063741</td>\n",
       "    </tr>\n",
       "    <tr>\n",
       "      <th>28</th>\n",
       "      <td>7</td>\n",
       "      <td>Egypt</td>\n",
       "      <td>-1.591375</td>\n",
       "      <td>0.061727</td>\n",
       "    </tr>\n",
       "    <tr>\n",
       "      <th>29</th>\n",
       "      <td>32</td>\n",
       "      <td>Spain</td>\n",
       "      <td>-1.565671</td>\n",
       "      <td>0.066571</td>\n",
       "    </tr>\n",
       "    <tr>\n",
       "      <th>30</th>\n",
       "      <td>3</td>\n",
       "      <td>Brazil</td>\n",
       "      <td>-1.557453</td>\n",
       "      <td>0.064563</td>\n",
       "    </tr>\n",
       "    <tr>\n",
       "      <th>31</th>\n",
       "      <td>28</td>\n",
       "      <td>Russia</td>\n",
       "      <td>-1.529252</td>\n",
       "      <td>0.051330</td>\n",
       "    </tr>\n",
       "    <tr>\n",
       "      <th>32</th>\n",
       "      <td>18</td>\n",
       "      <td>Japan</td>\n",
       "      <td>-1.467676</td>\n",
       "      <td>0.057352</td>\n",
       "    </tr>\n",
       "    <tr>\n",
       "      <th>33</th>\n",
       "      <td>1</td>\n",
       "      <td>Australia</td>\n",
       "      <td>-1.460529</td>\n",
       "      <td>0.070124</td>\n",
       "    </tr>\n",
       "    <tr>\n",
       "      <th>34</th>\n",
       "      <td>10</td>\n",
       "      <td>Germany</td>\n",
       "      <td>-1.457075</td>\n",
       "      <td>0.056770</td>\n",
       "    </tr>\n",
       "    <tr>\n",
       "      <th>35</th>\n",
       "      <td>4</td>\n",
       "      <td>Canada</td>\n",
       "      <td>-1.448584</td>\n",
       "      <td>0.054461</td>\n",
       "    </tr>\n",
       "    <tr>\n",
       "      <th>36</th>\n",
       "      <td>5</td>\n",
       "      <td>China</td>\n",
       "      <td>-1.395979</td>\n",
       "      <td>0.045873</td>\n",
       "    </tr>\n",
       "    <tr>\n",
       "      <th>37</th>\n",
       "      <td>13</td>\n",
       "      <td>India</td>\n",
       "      <td>-1.381318</td>\n",
       "      <td>0.054750</td>\n",
       "    </tr>\n",
       "    <tr>\n",
       "      <th>38</th>\n",
       "      <td>9</td>\n",
       "      <td>France</td>\n",
       "      <td>-1.327861</td>\n",
       "      <td>0.070114</td>\n",
       "    </tr>\n",
       "    <tr>\n",
       "      <th>39</th>\n",
       "      <td>37</td>\n",
       "      <td>United States</td>\n",
       "      <td>-0.928219</td>\n",
       "      <td>0.046558</td>\n",
       "    </tr>\n",
       "  </tbody>\n",
       "</table>\n",
       "</div>"
      ],
      "text/plain": [
       "    index       Searchee      mean       SEM\n",
       "0      20        Liberia -2.004321  0.000000\n",
       "1      12          Haiti -1.995291  0.009030\n",
       "2      29         Rwanda -1.984597  0.019724\n",
       "3      39          Yemen -1.969791  0.024906\n",
       "4      26    North Korea -1.963354  0.024140\n",
       "5      22          Nepal -1.931742  0.028782\n",
       "6       0    Afghanistan -1.899238  0.032266\n",
       "7      38      Venezuela -1.892080  0.040410\n",
       "8      19         Jordan -1.877866  0.035829\n",
       "9      14      Indonesia -1.869191  0.044479\n",
       "10      6           Cuba -1.851666  0.040018\n",
       "11     36        Ukraine -1.842503  0.045969\n",
       "12     25        Nigeria -1.832197  0.063600\n",
       "13     33          Syria -1.797679  0.047828\n",
       "14     30   Saudi Arabia -1.790697  0.051889\n",
       "15     17         Israel -1.790212  0.043969\n",
       "16     27       Pakistan -1.778736  0.056963\n",
       "17      2        Belgium -1.765381  0.055894\n",
       "18     16           Iraq -1.761257  0.054279\n",
       "19     24    New Zealand -1.751357  0.052748\n",
       "20     31   South Africa -1.743461  0.058657\n",
       "21     11         Greece -1.736765  0.056683\n",
       "22     15           Iran -1.728456  0.053405\n",
       "23     23    Netherlands -1.712469  0.060297\n",
       "24     21         Mexico -1.704478  0.060778\n",
       "25      8        England -1.688073  0.050417\n",
       "26     34       Thailand -1.665311  0.054647\n",
       "27     35         Turkey -1.604628  0.063741\n",
       "28      7          Egypt -1.591375  0.061727\n",
       "29     32          Spain -1.565671  0.066571\n",
       "30      3         Brazil -1.557453  0.064563\n",
       "31     28         Russia -1.529252  0.051330\n",
       "32     18          Japan -1.467676  0.057352\n",
       "33      1      Australia -1.460529  0.070124\n",
       "34     10        Germany -1.457075  0.056770\n",
       "35      4         Canada -1.448584  0.054461\n",
       "36      5          China -1.395979  0.045873\n",
       "37     13          India -1.381318  0.054750\n",
       "38      9         France -1.327861  0.070114\n",
       "39     37  United States -0.928219  0.046558"
      ]
     },
     "execution_count": 122,
     "metadata": {},
     "output_type": "execute_result"
    }
   ],
   "source": [
    "searchee_df"
   ]
  },
  {
   "cell_type": "code",
   "execution_count": 344,
   "metadata": {
    "collapsed": false
   },
   "outputs": [
    {
     "data": {
      "image/png": "[encoded data removed]",
      "text/plain": [
       "<matplotlib.figure.Figure at 0x13d66fb10>"
      ]
     },
     "metadata": {},
     "output_type": "display_data"
    }
   ],
   "source": [
    "plt.figure(figsize=(15,4))\n",
    "ax=plt.axes()\n",
    "ax.yaxis.grid(True)\n",
    "plt.errorbar(range(len(searchee_df)), searchee_df['mean'], yerr=searchee_df['SEM'],\\\n",
    "             c='orange',fmt='o',markersize=10)\n",
    "\n",
    "plt.ylabel('Search score',fontsize='22')\n",
    "plt.xticks(range(len(searchee_df)), searchee_df['Searchee'], rotation='90',fontsize=22)\n",
    "plt.yticks([-2,-1.6,-1.2,-.8],fontsize=22)\n",
    "plt.axis([-.5, len(searchee_df), -2.1, -.7])\n",
    "plt.show()"
   ]
  },
  {
   "cell_type": "markdown",
   "metadata": {},
   "source": [
    "# Country by Country Analyses"
   ]
  },
  {
   "cell_type": "markdown",
   "metadata": {},
   "source": [
    "So far we've seen that certain countries are searched more often (more \"popular\" we might say) overall. How do these patterns vary depending on what country is doing the searching?"
   ]
  },
  {
   "cell_type": "code",
   "execution_count": 189,
   "metadata": {
    "collapsed": false
   },
   "outputs": [
    {
     "data": {
      "text/html": [
       "<div>\n",
       "<table border=\"1\" class=\"dataframe\">\n",
       "  <thead>\n",
       "    <tr style=\"text-align: right;\">\n",
       "      <th>Searcher</th>\n",
       "      <th>Liberia</th>\n",
       "      <th>Haiti</th>\n",
       "      <th>Rwanda</th>\n",
       "      <th>Yemen</th>\n",
       "      <th>North Korea</th>\n",
       "      <th>Nepal</th>\n",
       "      <th>Afghanistan</th>\n",
       "      <th>Venezuela</th>\n",
       "      <th>Jordan</th>\n",
       "      <th>Indonesia</th>\n",
       "      <th>...</th>\n",
       "      <th>Brazil</th>\n",
       "      <th>Russia</th>\n",
       "      <th>Japan</th>\n",
       "      <th>Australia</th>\n",
       "      <th>Germany</th>\n",
       "      <th>Canada</th>\n",
       "      <th>China</th>\n",
       "      <th>India</th>\n",
       "      <th>France</th>\n",
       "      <th>United States</th>\n",
       "    </tr>\n",
       "    <tr>\n",
       "      <th>Searchee</th>\n",
       "      <th></th>\n",
       "      <th></th>\n",
       "      <th></th>\n",
       "      <th></th>\n",
       "      <th></th>\n",
       "      <th></th>\n",
       "      <th></th>\n",
       "      <th></th>\n",
       "      <th></th>\n",
       "      <th></th>\n",
       "      <th></th>\n",
       "      <th></th>\n",
       "      <th></th>\n",
       "      <th></th>\n",
       "      <th></th>\n",
       "      <th></th>\n",
       "      <th></th>\n",
       "      <th></th>\n",
       "      <th></th>\n",
       "      <th></th>\n",
       "      <th></th>\n",
       "    </tr>\n",
       "  </thead>\n",
       "  <tbody>\n",
       "    <tr>\n",
       "      <th>Liberia</th>\n",
       "      <td>NaN</td>\n",
       "      <td>-2.004321</td>\n",
       "      <td>-2.004321</td>\n",
       "      <td>-2.004321</td>\n",
       "      <td>-2.004321</td>\n",
       "      <td>-2.004321</td>\n",
       "      <td>-2.004321</td>\n",
       "      <td>-2.004321</td>\n",
       "      <td>-2.004321</td>\n",
       "      <td>-2.004321</td>\n",
       "      <td>...</td>\n",
       "      <td>-2.004321</td>\n",
       "      <td>-2.004321</td>\n",
       "      <td>-2.004321</td>\n",
       "      <td>-2.004321</td>\n",
       "      <td>-2.004321</td>\n",
       "      <td>-2.004321</td>\n",
       "      <td>-2.004321</td>\n",
       "      <td>-2.004321</td>\n",
       "      <td>-2.004321</td>\n",
       "      <td>-2.004321</td>\n",
       "    </tr>\n",
       "    <tr>\n",
       "      <th>Haiti</th>\n",
       "      <td>-2.004321</td>\n",
       "      <td>NaN</td>\n",
       "      <td>-2.004321</td>\n",
       "      <td>-2.004321</td>\n",
       "      <td>-2.004321</td>\n",
       "      <td>-2.004321</td>\n",
       "      <td>-2.004321</td>\n",
       "      <td>-2.004321</td>\n",
       "      <td>-2.004321</td>\n",
       "      <td>-2.004321</td>\n",
       "      <td>...</td>\n",
       "      <td>-2.004321</td>\n",
       "      <td>-2.004321</td>\n",
       "      <td>-2.004321</td>\n",
       "      <td>-2.004321</td>\n",
       "      <td>-2.004321</td>\n",
       "      <td>-2.004321</td>\n",
       "      <td>-2.004321</td>\n",
       "      <td>-2.004321</td>\n",
       "      <td>-2.004321</td>\n",
       "      <td>-1.652139</td>\n",
       "    </tr>\n",
       "    <tr>\n",
       "      <th>Rwanda</th>\n",
       "      <td>-1.235088</td>\n",
       "      <td>-2.004321</td>\n",
       "      <td>NaN</td>\n",
       "      <td>-2.004321</td>\n",
       "      <td>-2.004321</td>\n",
       "      <td>-2.004321</td>\n",
       "      <td>-2.004321</td>\n",
       "      <td>-2.004321</td>\n",
       "      <td>-2.004321</td>\n",
       "      <td>-2.004321</td>\n",
       "      <td>...</td>\n",
       "      <td>-2.004321</td>\n",
       "      <td>-2.004321</td>\n",
       "      <td>-2.004321</td>\n",
       "      <td>-2.004321</td>\n",
       "      <td>-2.004321</td>\n",
       "      <td>-2.004321</td>\n",
       "      <td>-2.004321</td>\n",
       "      <td>-2.004321</td>\n",
       "      <td>-2.004321</td>\n",
       "      <td>-2.004321</td>\n",
       "    </tr>\n",
       "    <tr>\n",
       "      <th>Yemen</th>\n",
       "      <td>-2.004321</td>\n",
       "      <td>-2.004321</td>\n",
       "      <td>-2.004321</td>\n",
       "      <td>NaN</td>\n",
       "      <td>-2.004321</td>\n",
       "      <td>-2.004321</td>\n",
       "      <td>-2.004321</td>\n",
       "      <td>-2.004321</td>\n",
       "      <td>-2.004321</td>\n",
       "      <td>-2.004321</td>\n",
       "      <td>...</td>\n",
       "      <td>-2.004321</td>\n",
       "      <td>-2.004321</td>\n",
       "      <td>-2.004321</td>\n",
       "      <td>-2.004321</td>\n",
       "      <td>-2.004321</td>\n",
       "      <td>-2.004321</td>\n",
       "      <td>-2.004321</td>\n",
       "      <td>-2.004321</td>\n",
       "      <td>-2.004321</td>\n",
       "      <td>-2.004321</td>\n",
       "    </tr>\n",
       "    <tr>\n",
       "      <th>North Korea</th>\n",
       "      <td>-2.004321</td>\n",
       "      <td>-2.004321</td>\n",
       "      <td>-2.004321</td>\n",
       "      <td>-2.004321</td>\n",
       "      <td>NaN</td>\n",
       "      <td>-2.004321</td>\n",
       "      <td>-2.004321</td>\n",
       "      <td>-2.004321</td>\n",
       "      <td>-2.004321</td>\n",
       "      <td>-2.004321</td>\n",
       "      <td>...</td>\n",
       "      <td>-2.004321</td>\n",
       "      <td>-2.004321</td>\n",
       "      <td>-1.260384</td>\n",
       "      <td>-2.004321</td>\n",
       "      <td>-2.004321</td>\n",
       "      <td>-2.004321</td>\n",
       "      <td>-2.004321</td>\n",
       "      <td>-2.004321</td>\n",
       "      <td>-2.004321</td>\n",
       "      <td>-1.652139</td>\n",
       "    </tr>\n",
       "  </tbody>\n",
       "</table>\n",
       "<p>5 rows × 40 columns</p>\n",
       "</div>"
      ],
      "text/plain": [
       "Searcher      Liberia     Haiti    Rwanda     Yemen  North Korea     Nepal  \\\n",
       "Searchee                                                                     \n",
       "Liberia           NaN -2.004321 -2.004321 -2.004321    -2.004321 -2.004321   \n",
       "Haiti       -2.004321       NaN -2.004321 -2.004321    -2.004321 -2.004321   \n",
       "Rwanda      -1.235088 -2.004321       NaN -2.004321    -2.004321 -2.004321   \n",
       "Yemen       -2.004321 -2.004321 -2.004321       NaN    -2.004321 -2.004321   \n",
       "North Korea -2.004321 -2.004321 -2.004321 -2.004321          NaN -2.004321   \n",
       "\n",
       "Searcher     Afghanistan  Venezuela    Jordan  Indonesia      ...        \\\n",
       "Searchee                                                      ...         \n",
       "Liberia        -2.004321  -2.004321 -2.004321  -2.004321      ...         \n",
       "Haiti          -2.004321  -2.004321 -2.004321  -2.004321      ...         \n",
       "Rwanda         -2.004321  -2.004321 -2.004321  -2.004321      ...         \n",
       "Yemen          -2.004321  -2.004321 -2.004321  -2.004321      ...         \n",
       "North Korea    -2.004321  -2.004321 -2.004321  -2.004321      ...         \n",
       "\n",
       "Searcher       Brazil    Russia     Japan  Australia   Germany    Canada  \\\n",
       "Searchee                                                                   \n",
       "Liberia     -2.004321 -2.004321 -2.004321  -2.004321 -2.004321 -2.004321   \n",
       "Haiti       -2.004321 -2.004321 -2.004321  -2.004321 -2.004321 -2.004321   \n",
       "Rwanda      -2.004321 -2.004321 -2.004321  -2.004321 -2.004321 -2.004321   \n",
       "Yemen       -2.004321 -2.004321 -2.004321  -2.004321 -2.004321 -2.004321   \n",
       "North Korea -2.004321 -2.004321 -1.260384  -2.004321 -2.004321 -2.004321   \n",
       "\n",
       "Searcher        China     India    France  United States  \n",
       "Searchee                                                  \n",
       "Liberia     -2.004321 -2.004321 -2.004321      -2.004321  \n",
       "Haiti       -2.004321 -2.004321 -2.004321      -1.652139  \n",
       "Rwanda      -2.004321 -2.004321 -2.004321      -2.004321  \n",
       "Yemen       -2.004321 -2.004321 -2.004321      -2.004321  \n",
       "North Korea -2.004321 -2.004321 -2.004321      -1.652139  \n",
       "\n",
       "[5 rows x 40 columns]"
      ]
     },
     "execution_count": 189,
     "metadata": {},
     "output_type": "execute_result"
    }
   ],
   "source": [
    "search_mat=search_df.pivot('Searchee','Searcher','search_score')\n",
    "search_mat2=search_mat.loc[list(searchee_df['Searchee']),list(searchee_df['Searchee'])]\n",
    "search_mat2.head()"
   ]
  },
  {
   "cell_type": "code",
   "execution_count": 340,
   "metadata": {
    "collapsed": false
   },
   "outputs": [
    {
     "data": {
      "image/png": "[encoded data removed]",
      "text/plain": [
       "<matplotlib.figure.Figure at 0x138900710>"
      ]
     },
     "metadata": {},
     "output_type": "display_data"
    }
   ],
   "source": [
    "search_mat=search_df.pivot('Searchee','Searcher','search_score')\n",
    "search_mat2=search_mat.loc[list(searchee_df['Searchee'])[::-1],list(searchee_df['Searchee'])[::-1]]\n",
    "for i in range(0,40):\n",
    "    search_mat2.iloc[i,i]=0 # Setting self-search to the max\n",
    "\n",
    "plt.figure(figsize=(15,14))\n",
    "#plt.figure(figsize=(4,4))\n",
    "hm=sns.heatmap(search_mat2, linewidths=1,linecolor='#c5c9c7',vmax=0,cmap=\"GnBu\")\n",
    "cax = plt.gcf().axes[-1]\n",
    "cax.tick_params(labelsize=20)\n",
    "xt=plt.xticks(fontsize=16)\n",
    "yt=plt.yticks(fontsize=16)\n",
    "xl=plt.xlabel('Searcher',fontsize='22')\n",
    "yl=plt.ylabel('Searchee',fontsize='22')\n"
   ]
  },
  {
   "cell_type": "code",
   "execution_count": 206,
   "metadata": {
    "collapsed": false,
    "slideshow": {
     "slide_type": "-"
    }
   },
   "outputs": [],
   "source": [
    "# search_mat=search_df.pivot('Searchee','Searcher','search_score')\n",
    "\n",
    "# for i in range(0,40):\n",
    "#     search_mat.iloc[i,i]=0 # Setting self-search to the max\n",
    "# sns.set(font_scale=1.75)\n",
    "\n",
    "# g=sns.clustermap(search_mat, linewidths=1,linecolor='#c5c9c7', figsize=(15.5,15.5),vmax=0,cmap=\"GnBu\")\n",
    "# g2=g.ax_heatmap\n",
    "# y_labels=g2.set_yticklabels(g2.get_yticklabels(),rotation=0)\n",
    "# g.ax_col_dendrogram.remove()\n",
    "# g.ax_row_dendrogram.remove()\n",
    "# sns.set(style=\"white\", color_codes=True) # Something in clustermap seems to override the set()"
   ]
  },
  {
   "cell_type": "markdown",
   "metadata": {},
   "source": [
    "# Correlation with casualty estimates\n",
    "Let's see how these results compare to our casualty results"
   ]
  },
  {
   "cell_type": "code",
   "execution_count": 207,
   "metadata": {
    "collapsed": false
   },
   "outputs": [],
   "source": [
    "countries=['Nigeria','Japan','Pakistan','United States','France','Russia', \\\n",
    "          'Indonesia','Mexico','Rwanda','Haiti','Jordan','Cuba', \\\n",
    "          'Liberia','North Korea','Syria','Iraq','Yemen','Ukraine', \\\n",
    "          'Afghanistan','Turkey','Venezuela','Egypt','Iran','Saudi Arabia', \\\n",
    "          'China','Israel','Greece','Nepal','England','New Zealand', \\\n",
    "          'Germany','Spain','Thailand','South Africa','India','Australia', \\\n",
    "          'Brazil','Canada','Belgium','Netherlands'] # These are mapped onto art_id in our dataset\n",
    "\n",
    "casualty_df=pd.read_csv('../pilot_survey_v2/mturk_data_itNews_v3.csv', quotechar=\"'\",header=None,usecols=[5,9,10,11,12,])\n",
    "casualty_df.columns=['true_country','true_casualties','resp_country','resp_poster','resp_casualties']\n",
    "\n",
    "casualty_df.loc[:,'true_casualties_log10']=np.log10(casualty_df.loc[:,'true_casualties'])\n",
    "casualty_df.loc[:,'resp_casualties_log10']=np.log10(casualty_df.loc[:,'resp_casualties'])\n",
    "\n",
    "casualty_df.loc[:,'true_name']=casualty_df.loc[:,'true_country'].apply(lambda x:countries[x])\n",
    "casualty_df=casualty_df.loc[:,['true_name','resp_casualties_log10']]"
   ]
  },
  {
   "cell_type": "code",
   "execution_count": 208,
   "metadata": {
    "collapsed": false
   },
   "outputs": [
    {
     "name": "stdout",
     "output_type": "stream",
     "text": [
      "   index     Searchee      mean       SEM  mean_cas   SEM_cas\n",
      "0     20      Liberia -2.004321  0.000000  1.742051  0.170930\n",
      "1     12        Haiti -1.995291  0.009030  2.689742  0.175097\n",
      "2     29       Rwanda -1.984597  0.019724  2.591224  0.142209\n",
      "3     39        Yemen -1.969791  0.024906  2.355522  0.140432\n",
      "4     26  North Korea -1.963354  0.024140  2.285098  0.127236\n"
     ]
    }
   ],
   "source": [
    "mean_casualty=casualty_df.groupby('true_name').mean().reset_index()\n",
    "std_casualty=casualty_df.groupby('true_name').std()\n",
    "num_casualty=np.sqrt(casualty_df.loc[:,['true_name','resp_casualties_log10']].groupby('true_name').size())\n",
    "\n",
    "sem_searchee=std_casualty.divide(num_casualty,axis=0).reset_index()\n",
    "country_casualty=pd.merge(mean_casualty,sem_searchee,on='true_name')\n",
    "country_casualty.columns=['true_name','mean_cas','SEM_cas']\n",
    "\n",
    "searchee_df2=pd.merge(searchee_df,country_casualty,left_on='Searchee',right_on='true_name')\n",
    "del searchee_df2['true_name']\n",
    "\n",
    "print searchee_df2.head()"
   ]
  },
  {
   "cell_type": "code",
   "execution_count": 337,
   "metadata": {
    "collapsed": false
   },
   "outputs": [
    {
     "data": {
      "image/png": "[encoded data removed]",
      "text/plain": [
       "<matplotlib.figure.Figure at 0x117be8150>"
      ]
     },
     "metadata": {},
     "output_type": "display_data"
    }
   ],
   "source": [
    "plt.figure(figsize=(10,8))\n",
    "\n",
    "plt.errorbar(searchee_df2['mean'], searchee_df2['mean_cas'], yerr=searchee_df2['SEM_cas'],\\\n",
    "             c='orange',fmt='o',markersize=8)\n",
    "\n",
    "# liberia\n",
    "liberia_df=searchee_df2[searchee_df2['Searchee']=='Liberia']\n",
    "plt.errorbar(liberia_df['mean'], liberia_df['mean_cas'], yerr=liberia_df['SEM_cas'],c='lightblue',fmt='o')\n",
    "\n",
    "plt.xlabel('Search score',fontsize='22')\n",
    "plt.ylabel('Mean log10 casualties',fontsize='22')\n",
    "#plt.xticks(range(len(searchee_df)), searchee_df['searchee'], rotation='90',fontsize=22)\n",
    "plt.xticks([-2,-1],fontsize=22)\n",
    "plt.yticks([1.6,2.2,2.8],fontsize=22)\n",
    "plt.axis([-2.1, -.8, 1.5, 3])\n",
    "plt.show()\n"
   ]
  },
  {
   "cell_type": "markdown",
   "metadata": {},
   "source": [
    "I made Liberia blue here (bottom-left). It's a weird case--It's rarely searched and in our casualty results people seem to assume it's a small island."
   ]
  },
  {
   "cell_type": "code",
   "execution_count": 210,
   "metadata": {
    "collapsed": false
   },
   "outputs": [
    {
     "name": "stdout",
     "output_type": "stream",
     "text": [
      "-0.338801273962\n",
      "0.0348738184654\n"
     ]
    }
   ],
   "source": [
    "not_liberia_df=searchee_df2[searchee_df2['Searchee']!='Liberia'] # exclude liberia because it's an outlier\n",
    "\n",
    "a,b=stats.pearsonr(not_liberia_df['mean'], not_liberia_df['mean_cas'])  \n",
    "print a\n",
    "print b"
   ]
  },
  {
   "cell_type": "markdown",
   "metadata": {},
   "source": [
    "Okay, cool! There's a reasonable negative correlation between how often people search a country (marginalized across countries) and how many casualties Americans expect. This bodes well for us trying to find meaningful predictors. We can also look at just Americans' search patterns"
   ]
  },
  {
   "cell_type": "code",
   "execution_count": 211,
   "metadata": {
    "collapsed": false
   },
   "outputs": [
    {
     "data": {
      "text/html": [
       "<div>\n",
       "<table border=\"1\" class=\"dataframe\">\n",
       "  <thead>\n",
       "    <tr style=\"text-align: right;\">\n",
       "      <th></th>\n",
       "      <th>Searchee</th>\n",
       "      <th>Searcher</th>\n",
       "      <th>search_num</th>\n",
       "      <th>self_num</th>\n",
       "      <th>search_score</th>\n",
       "      <th>true_name</th>\n",
       "      <th>mean_cas</th>\n",
       "      <th>SEM_cas</th>\n",
       "    </tr>\n",
       "  </thead>\n",
       "  <tbody>\n",
       "    <tr>\n",
       "      <th>0</th>\n",
       "      <td>Nigeria</td>\n",
       "      <td>United States</td>\n",
       "      <td>1</td>\n",
       "      <td>80</td>\n",
       "      <td>-1.652139</td>\n",
       "      <td>Nigeria</td>\n",
       "      <td>2.206482</td>\n",
       "      <td>0.159948</td>\n",
       "    </tr>\n",
       "    <tr>\n",
       "      <th>1</th>\n",
       "      <td>Japan</td>\n",
       "      <td>United States</td>\n",
       "      <td>6</td>\n",
       "      <td>80</td>\n",
       "      <td>-1.074902</td>\n",
       "      <td>Japan</td>\n",
       "      <td>2.400800</td>\n",
       "      <td>0.135751</td>\n",
       "    </tr>\n",
       "    <tr>\n",
       "      <th>2</th>\n",
       "      <td>Pakistan</td>\n",
       "      <td>United States</td>\n",
       "      <td>2</td>\n",
       "      <td>80</td>\n",
       "      <td>-1.460253</td>\n",
       "      <td>Pakistan</td>\n",
       "      <td>2.256767</td>\n",
       "      <td>0.132632</td>\n",
       "    </tr>\n",
       "    <tr>\n",
       "      <th>3</th>\n",
       "      <td>France</td>\n",
       "      <td>United States</td>\n",
       "      <td>5</td>\n",
       "      <td>80</td>\n",
       "      <td>-1.143983</td>\n",
       "      <td>France</td>\n",
       "      <td>2.144102</td>\n",
       "      <td>0.108619</td>\n",
       "    </tr>\n",
       "    <tr>\n",
       "      <th>4</th>\n",
       "      <td>Russia</td>\n",
       "      <td>United States</td>\n",
       "      <td>5</td>\n",
       "      <td>80</td>\n",
       "      <td>-1.143983</td>\n",
       "      <td>Russia</td>\n",
       "      <td>2.260736</td>\n",
       "      <td>0.219207</td>\n",
       "    </tr>\n",
       "  </tbody>\n",
       "</table>\n",
       "</div>"
      ],
      "text/plain": [
       "   Searchee       Searcher  search_num  self_num  search_score true_name  \\\n",
       "0   Nigeria  United States           1        80     -1.652139   Nigeria   \n",
       "1     Japan  United States           6        80     -1.074902     Japan   \n",
       "2  Pakistan  United States           2        80     -1.460253  Pakistan   \n",
       "3    France  United States           5        80     -1.143983    France   \n",
       "4    Russia  United States           5        80     -1.143983    Russia   \n",
       "\n",
       "   mean_cas   SEM_cas  \n",
       "0  2.206482  0.159948  \n",
       "1  2.400800  0.135751  \n",
       "2  2.256767  0.132632  \n",
       "3  2.144102  0.108619  \n",
       "4  2.260736  0.219207  "
      ]
     },
     "execution_count": 211,
     "metadata": {},
     "output_type": "execute_result"
    }
   ],
   "source": [
    "searchee_usa_df=pd.merge(search_df.loc[search_df.Searcher=='United States'],country_casualty,left_on='Searchee',right_on='true_name')\n",
    "searchee_usa_df.head()"
   ]
  },
  {
   "cell_type": "code",
   "execution_count": 371,
   "metadata": {
    "collapsed": false
   },
   "outputs": [
    {
     "data": {
      "image/png": "[encoded data removed]",
      "text/plain": [
       "<matplotlib.figure.Figure at 0x138817f10>"
      ]
     },
     "metadata": {},
     "output_type": "display_data"
    }
   ],
   "source": [
    "plt.figure(figsize=(10,8))\n",
    "\n",
    "plt.errorbar(searchee_usa_df['search_score'], searchee_usa_df['mean_cas'], yerr=searchee_usa_df['SEM_cas'],\\\n",
    "             c='orange',fmt='o',markersize=8)\n",
    "a\n",
    "# liberia\n",
    "liberia_df=searchee_usa_df[searchee_usa_df['Searchee']=='Liberia']\n",
    "plt.errorbar(liberia_df['search_score'], liberia_df['mean_cas'], yerr=liberia_df['SEM_cas'],c='lightblue',fmt='o')\n",
    "\n",
    "plt.xlabel('USA Search score',fontsize='22')\n",
    "plt.ylabel('Mean log10 casualties',fontsize='22')\n",
    "#plt.xticks(range(len(searchee_df)), searchee_df['searchee'], rotation='90',fontsize=22)\n",
    "plt.xticks([-1.75,-1.25,-.75],fontsize=22)\n",
    "plt.yticks([1.6,2.2,2.8],fontsize=22)\n",
    "plt.axis([-2.3, -.5, 1.5, 3])\n",
    "plt.show()"
   ]
  },
  {
   "cell_type": "code",
   "execution_count": 213,
   "metadata": {
    "collapsed": false
   },
   "outputs": [
    {
     "name": "stdout",
     "output_type": "stream",
     "text": [
      "-0.365340716754\n",
      "0.0241031539299\n"
     ]
    }
   ],
   "source": [
    "not_liberia_df=searchee_usa_df[searchee_usa_df['Searchee']!='Liberia'] # exclude liberia because it's an outlier\n",
    "a,b=stats.pearsonr(not_liberia_df['search_score'], not_liberia_df['mean_cas'])  \n",
    "print a\n",
    "print b"
   ]
  },
  {
   "cell_type": "code",
   "execution_count": 370,
   "metadata": {
    "collapsed": false
   },
   "outputs": [
    {
     "data": {
      "image/png": "[encoded data removed]",
      "text/plain": [
       "<matplotlib.figure.Figure at 0x120b4cf90>"
      ]
     },
     "metadata": {},
     "output_type": "display_data"
    }
   ],
   "source": [
    "sort_usa= searchee_usa_df.sort_values(by='search_score')\n",
    "plt.figure(figsize=(16,6))\n",
    "\n",
    "plt.scatter(range(len(sort_usa['search_score'])), sort_usa['search_score'],\\\n",
    "             color='orange',s=100)\n",
    "\n",
    "\n",
    "plt.ylabel('USA Search score',fontsize='22')\n",
    "plt.xticks(range(len(sort_usa)), sort_usa['Searchee'], rotation='90',fontsize=22)\n",
    "\n",
    "plt.yticks([-2.2,-1.6,-1.0],fontsize=22)\n",
    "ax=plt.axes()\n",
    "ax.yaxis.grid(True)\n",
    "plt.axis([-.5, len(sort_usa), -2.2, -.5])\n",
    "plt.show()"
   ]
  },
  {
   "cell_type": "markdown",
   "metadata": {},
   "source": [
    "# Predictors"
   ]
  },
  {
   "cell_type": "markdown",
   "metadata": {},
   "source": [
    "What factors predict what countries people search for? Drew Walker and I have already collected some data. First we have some demographic and location data from Wikipedia"
   ]
  },
  {
   "cell_type": "code",
   "execution_count": 214,
   "metadata": {
    "collapsed": false
   },
   "outputs": [
    {
     "data": {
      "text/html": [
       "<div>\n",
       "<table border=\"1\" class=\"dataframe\">\n",
       "  <thead>\n",
       "    <tr style=\"text-align: right;\">\n",
       "      <th></th>\n",
       "      <th>Country</th>\n",
       "      <th>Area (km)</th>\n",
       "      <th>Population</th>\n",
       "      <th>Life Expectancy</th>\n",
       "      <th>GDP (per capita PPP)</th>\n",
       "      <th>Religion1</th>\n",
       "      <th>Religion2</th>\n",
       "      <th>Language1</th>\n",
       "      <th>Language2</th>\n",
       "      <th>Latitude</th>\n",
       "      <th>Longitude</th>\n",
       "    </tr>\n",
       "  </thead>\n",
       "  <tbody>\n",
       "    <tr>\n",
       "      <th>0</th>\n",
       "      <td>NORTH KOREA</td>\n",
       "      <td>120538</td>\n",
       "      <td>24983205</td>\n",
       "      <td>70.11</td>\n",
       "      <td>1800</td>\n",
       "      <td>Buddhism</td>\n",
       "      <td>Confucianism</td>\n",
       "      <td>Korean</td>\n",
       "      <td>NaN</td>\n",
       "      <td>39.0392</td>\n",
       "      <td>125.7625</td>\n",
       "    </tr>\n",
       "    <tr>\n",
       "      <th>1</th>\n",
       "      <td>SYRIA</td>\n",
       "      <td>185180</td>\n",
       "      <td>17064854</td>\n",
       "      <td>74.69</td>\n",
       "      <td>5100</td>\n",
       "      <td>Islam</td>\n",
       "      <td>NaN</td>\n",
       "      <td>Arabic</td>\n",
       "      <td>NaN</td>\n",
       "      <td>33.5138</td>\n",
       "      <td>36.2765</td>\n",
       "    </tr>\n",
       "    <tr>\n",
       "      <th>2</th>\n",
       "      <td>IRAN</td>\n",
       "      <td>1648195</td>\n",
       "      <td>81824270</td>\n",
       "      <td>71.15</td>\n",
       "      <td>17800</td>\n",
       "      <td>Islam</td>\n",
       "      <td>NaN</td>\n",
       "      <td>Farsi</td>\n",
       "      <td>NaN</td>\n",
       "      <td>35.6892</td>\n",
       "      <td>51.3890</td>\n",
       "    </tr>\n",
       "    <tr>\n",
       "      <th>3</th>\n",
       "      <td>IRAQ</td>\n",
       "      <td>438317</td>\n",
       "      <td>37056169</td>\n",
       "      <td>74.85</td>\n",
       "      <td>15500</td>\n",
       "      <td>Islam</td>\n",
       "      <td>NaN</td>\n",
       "      <td>Arabic</td>\n",
       "      <td>NaN</td>\n",
       "      <td>33.3128</td>\n",
       "      <td>44.3615</td>\n",
       "    </tr>\n",
       "    <tr>\n",
       "      <th>4</th>\n",
       "      <td>AFGHANISTAN</td>\n",
       "      <td>652230</td>\n",
       "      <td>32564342</td>\n",
       "      <td>50.87</td>\n",
       "      <td>2000</td>\n",
       "      <td>Islam</td>\n",
       "      <td>NaN</td>\n",
       "      <td>Farsi</td>\n",
       "      <td>NaN</td>\n",
       "      <td>34.5553</td>\n",
       "      <td>69.2075</td>\n",
       "    </tr>\n",
       "  </tbody>\n",
       "</table>\n",
       "</div>"
      ],
      "text/plain": [
       "       Country  Area (km)  Population  Life Expectancy  GDP (per capita PPP)  \\\n",
       "0  NORTH KOREA     120538    24983205            70.11                  1800   \n",
       "1        SYRIA     185180    17064854            74.69                  5100   \n",
       "2         IRAN    1648195    81824270            71.15                 17800   \n",
       "3         IRAQ     438317    37056169            74.85                 15500   \n",
       "4  AFGHANISTAN     652230    32564342            50.87                  2000   \n",
       "\n",
       "  Religion1     Religion2 Language1 Language2  Latitude  Longitude  \n",
       "0  Buddhism  Confucianism    Korean       NaN   39.0392   125.7625  \n",
       "1     Islam           NaN    Arabic       NaN   33.5138    36.2765  \n",
       "2     Islam           NaN     Farsi       NaN   35.6892    51.3890  \n",
       "3     Islam           NaN    Arabic       NaN   33.3128    44.3615  \n",
       "4     Islam           NaN     Farsi       NaN   34.5553    69.2075  "
      ]
     },
     "execution_count": 214,
     "metadata": {},
     "output_type": "execute_result"
    }
   ],
   "source": [
    "wiki_df=pd.read_csv('wiki_facts.csv')\n",
    "wiki_df.head()"
   ]
  },
  {
   "cell_type": "markdown",
   "metadata": {},
   "source": [
    "And some trade information from [the Observatory of Economic Complexity](http://atlas.media.mit.edu/en/resources/data/). Note, you'll have to follow the link for the tsv; it was too large to upload to Github :/"
   ]
  },
  {
   "cell_type": "code",
   "execution_count": 215,
   "metadata": {
    "collapsed": false
   },
   "outputs": [
    {
     "data": {
      "text/html": [
       "<div>\n",
       "<table border=\"1\" class=\"dataframe\">\n",
       "  <thead>\n",
       "    <tr style=\"text-align: right;\">\n",
       "      <th></th>\n",
       "      <th>year</th>\n",
       "      <th>origin</th>\n",
       "      <th>destination</th>\n",
       "      <th>$prod_id</th>\n",
       "      <th>export_val</th>\n",
       "      <th>import_val</th>\n",
       "    </tr>\n",
       "  </thead>\n",
       "  <tbody>\n",
       "    <tr>\n",
       "      <th>0</th>\n",
       "      <td>2008</td>\n",
       "      <td>abw</td>\n",
       "      <td>are</td>\n",
       "      <td>2710</td>\n",
       "      <td>NaN</td>\n",
       "      <td>7621.0</td>\n",
       "    </tr>\n",
       "    <tr>\n",
       "      <th>1</th>\n",
       "      <td>2008</td>\n",
       "      <td>abw</td>\n",
       "      <td>are</td>\n",
       "      <td>8517</td>\n",
       "      <td>NaN</td>\n",
       "      <td>222708.0</td>\n",
       "    </tr>\n",
       "    <tr>\n",
       "      <th>2</th>\n",
       "      <td>2008</td>\n",
       "      <td>abw</td>\n",
       "      <td>arg</td>\n",
       "      <td>201</td>\n",
       "      <td>NaN</td>\n",
       "      <td>157715.0</td>\n",
       "    </tr>\n",
       "    <tr>\n",
       "      <th>3</th>\n",
       "      <td>2008</td>\n",
       "      <td>abw</td>\n",
       "      <td>arg</td>\n",
       "      <td>202</td>\n",
       "      <td>NaN</td>\n",
       "      <td>1044521.0</td>\n",
       "    </tr>\n",
       "    <tr>\n",
       "      <th>4</th>\n",
       "      <td>2008</td>\n",
       "      <td>abw</td>\n",
       "      <td>arg</td>\n",
       "      <td>204</td>\n",
       "      <td>NaN</td>\n",
       "      <td>66372.0</td>\n",
       "    </tr>\n",
       "  </tbody>\n",
       "</table>\n",
       "</div>"
      ],
      "text/plain": [
       "   year origin destination  $prod_id  export_val  import_val\n",
       "0  2008    abw         are      2710         NaN      7621.0\n",
       "1  2008    abw         are      8517         NaN    222708.0\n",
       "2  2008    abw         arg       201         NaN    157715.0\n",
       "3  2008    abw         arg       202         NaN   1044521.0\n",
       "4  2008    abw         arg       204         NaN     66372.0"
      ]
     },
     "execution_count": 215,
     "metadata": {},
     "output_type": "execute_result"
    }
   ],
   "source": [
    "trade_df=pd.read_csv('year_origin_destination_hs07_4.tsv',delimiter='\\t')\n",
    "country_codes={'nigeria':'nga','japan':'jpn','pakistan':'pak','united states':'usa','france':'fra','russia':'rus', 'indonesia':'idn','mexico':'mex','rwanda':'rwa','haiti':'hti','jordan':'jor','cuba':'cub', 'liberia':'lbr','north korea':'prk','syria':'syr','iraq':'irq','yemen':'yem','ukraine':'ukr', 'afghanistan':'afg','turkey':'tur','venezuela':'ven','egypt':'egy','iran':'irn','saudi arabia':'sau', 'china':'chn','israel':'isr','greece':'grc','nepal':'npl','england':'gbr','new zealand':'nzl', 'germany':'deu','spain':'esp','thailand':'tha','south africa':'zaf','india':'ind','australia':'aus', 'brazil':'bra','canada':'can','belgium':'bel','netherlands':'nld'}\n",
    "trade_df.head()"
   ]
  },
  {
   "cell_type": "markdown",
   "metadata": {},
   "source": [
    "Let's add some factors to our data"
   ]
  },
  {
   "cell_type": "code",
   "execution_count": 216,
   "metadata": {
    "collapsed": false
   },
   "outputs": [
    {
     "data": {
      "text/html": [
       "<div>\n",
       "<table border=\"1\" class=\"dataframe\">\n",
       "  <thead>\n",
       "    <tr style=\"text-align: right;\">\n",
       "      <th></th>\n",
       "      <th>Searchee</th>\n",
       "      <th>Searcher</th>\n",
       "      <th>search_score</th>\n",
       "      <th>Searchee_upper</th>\n",
       "      <th>Searcher_upper</th>\n",
       "      <th>Population</th>\n",
       "      <th>GDP (per capita PPP)</th>\n",
       "    </tr>\n",
       "  </thead>\n",
       "  <tbody>\n",
       "    <tr>\n",
       "      <th>0</th>\n",
       "      <td>Japan</td>\n",
       "      <td>Nigeria</td>\n",
       "      <td>-1.611521</td>\n",
       "      <td>JAPAN</td>\n",
       "      <td>NIGERIA</td>\n",
       "      <td>126919659</td>\n",
       "      <td>38200</td>\n",
       "    </tr>\n",
       "    <tr>\n",
       "      <th>1</th>\n",
       "      <td>Japan</td>\n",
       "      <td>Pakistan</td>\n",
       "      <td>-1.618970</td>\n",
       "      <td>JAPAN</td>\n",
       "      <td>PAKISTAN</td>\n",
       "      <td>126919659</td>\n",
       "      <td>38200</td>\n",
       "    </tr>\n",
       "    <tr>\n",
       "      <th>2</th>\n",
       "      <td>Japan</td>\n",
       "      <td>United States</td>\n",
       "      <td>-1.074902</td>\n",
       "      <td>JAPAN</td>\n",
       "      <td>UNITED STATES</td>\n",
       "      <td>126919659</td>\n",
       "      <td>38200</td>\n",
       "    </tr>\n",
       "    <tr>\n",
       "      <th>3</th>\n",
       "      <td>Japan</td>\n",
       "      <td>France</td>\n",
       "      <td>-1.367499</td>\n",
       "      <td>JAPAN</td>\n",
       "      <td>FRANCE</td>\n",
       "      <td>126919659</td>\n",
       "      <td>38200</td>\n",
       "    </tr>\n",
       "    <tr>\n",
       "      <th>4</th>\n",
       "      <td>Japan</td>\n",
       "      <td>Russia</td>\n",
       "      <td>-1.088058</td>\n",
       "      <td>JAPAN</td>\n",
       "      <td>RUSSIA</td>\n",
       "      <td>126919659</td>\n",
       "      <td>38200</td>\n",
       "    </tr>\n",
       "  </tbody>\n",
       "</table>\n",
       "</div>"
      ],
      "text/plain": [
       "  Searchee       Searcher  search_score Searchee_upper Searcher_upper  \\\n",
       "0    Japan        Nigeria     -1.611521          JAPAN        NIGERIA   \n",
       "1    Japan       Pakistan     -1.618970          JAPAN       PAKISTAN   \n",
       "2    Japan  United States     -1.074902          JAPAN  UNITED STATES   \n",
       "3    Japan         France     -1.367499          JAPAN         FRANCE   \n",
       "4    Japan         Russia     -1.088058          JAPAN         RUSSIA   \n",
       "\n",
       "   Population  GDP (per capita PPP)  \n",
       "0   126919659                 38200  \n",
       "1   126919659                 38200  \n",
       "2   126919659                 38200  \n",
       "3   126919659                 38200  \n",
       "4   126919659                 38200  "
      ]
     },
     "execution_count": 216,
     "metadata": {},
     "output_type": "execute_result"
    }
   ],
   "source": [
    "unidir_data=wiki_df.loc[:,['Country','Population','GDP (per capita PPP)']]\n",
    "\n",
    "# the wiki_facts.csv data uses uppercase\n",
    "search_df.loc[:,'Searchee_upper']=[i.upper() for i in search_df.loc[:,'Searchee']] \n",
    "search_df.loc[:,'Searcher_upper']=[i.upper() for i in search_df.loc[:,'Searcher']] \n",
    "search_pred_df=pd.merge(search_df,unidir_data,\\\n",
    "                        left_on='Searchee_upper',right_on='Country')\n",
    "search_pred_df.drop(['Country','search_num','self_num'], axis=1, inplace=True)\n",
    "search_pred_df.head()"
   ]
  },
  {
   "cell_type": "markdown",
   "metadata": {},
   "source": [
    "And let's add in a factor for shared religion"
   ]
  },
  {
   "cell_type": "code",
   "execution_count": 217,
   "metadata": {
    "collapsed": false
   },
   "outputs": [
    {
     "name": "stdout",
     "output_type": "stream",
     "text": [
      "    Searchee     Searcher  search_score Searchee_upper Searcher_upper  \\\n",
      "12     Japan  North Korea     -2.004321          JAPAN    NORTH KOREA   \n",
      "23     Japan        China     -0.606381          JAPAN          CHINA   \n",
      "26     Japan        Nepal     -1.456344          JAPAN          NEPAL   \n",
      "31     Japan     Thailand     -0.838888          JAPAN       THAILAND   \n",
      "39  Pakistan      Nigeria     -2.004321       PAKISTAN        NIGERIA   \n",
      "\n",
      "    Population  GDP (per capita PPP) com_rel  \n",
      "12   126919659                 38200    True  \n",
      "23   126919659                 38200    True  \n",
      "26   126919659                 38200    True  \n",
      "31   126919659                 38200    True  \n",
      "39   199085847                  4900    True  \n",
      "  Searchee       Searcher  search_score Searchee_upper Searcher_upper  \\\n",
      "0    Japan        Nigeria     -1.611521          JAPAN        NIGERIA   \n",
      "1    Japan       Pakistan     -1.618970          JAPAN       PAKISTAN   \n",
      "2    Japan  United States     -1.074902          JAPAN  UNITED STATES   \n",
      "3    Japan         France     -1.367499          JAPAN         FRANCE   \n",
      "4    Japan         Russia     -1.088058          JAPAN         RUSSIA   \n",
      "\n",
      "   Population  GDP (per capita PPP) com_rel  \n",
      "0   126919659                 38200   False  \n",
      "1   126919659                 38200   False  \n",
      "2   126919659                 38200   False  \n",
      "3   126919659                 38200   False  \n",
      "4   126919659                 38200   False  \n"
     ]
    }
   ],
   "source": [
    "def comp_rel(x):\n",
    "    s_ee_rel= wiki_df.loc[x.Searchee_upper==wiki_df.Country,:].loc[:,['Religion1','Religion2']].iloc[0,:]\n",
    "    s_er_rel= wiki_df.loc[x.Searcher_upper==wiki_df.Country,:].loc[:,['Religion1','Religion2']].iloc[0,:]\n",
    "    return len(set(s_ee_rel).intersection(set(s_er_rel)))>0\n",
    "\n",
    "search_pred_df.loc[:,'com_rel']=search_pred_df.apply(comp_rel,axis=1)\n",
    "print search_pred_df.query('com_rel==True').head()\n",
    "print search_pred_df.query('com_rel==False').head()"
   ]
  },
  {
   "cell_type": "markdown",
   "metadata": {},
   "source": [
    "And one for common language"
   ]
  },
  {
   "cell_type": "code",
   "execution_count": 218,
   "metadata": {
    "collapsed": false
   },
   "outputs": [
    {
     "name": "stdout",
     "output_type": "stream",
     "text": [
      "    Searchee       Searcher  search_score Searchee_upper Searcher_upper  \\\n",
      "39  Pakistan        Nigeria     -2.004321       PAKISTAN        NIGERIA   \n",
      "41  Pakistan  United States     -1.460253       PAKISTAN  UNITED STATES   \n",
      "48  Pakistan         Jordan     -2.004321       PAKISTAN         JORDAN   \n",
      "50  Pakistan        Liberia     -1.084351       PAKISTAN        LIBERIA   \n",
      "66  Pakistan        England     -0.691188       PAKISTAN        ENGLAND   \n",
      "\n",
      "    Population  GDP (per capita PPP) com_rel com_lang  \n",
      "39   199085847                  4900    True     True  \n",
      "41   199085847                  4900    True     True  \n",
      "48   199085847                  4900    True     True  \n",
      "50   199085847                  4900    True     True  \n",
      "66   199085847                  4900    True     True  \n",
      "  Searchee       Searcher  search_score Searchee_upper Searcher_upper  \\\n",
      "0    Japan        Nigeria     -1.611521          JAPAN        NIGERIA   \n",
      "1    Japan       Pakistan     -1.618970          JAPAN       PAKISTAN   \n",
      "2    Japan  United States     -1.074902          JAPAN  UNITED STATES   \n",
      "3    Japan         France     -1.367499          JAPAN         FRANCE   \n",
      "4    Japan         Russia     -1.088058          JAPAN         RUSSIA   \n",
      "\n",
      "   Population  GDP (per capita PPP) com_rel com_lang  \n",
      "0   126919659                 38200   False    False  \n",
      "1   126919659                 38200   False    False  \n",
      "2   126919659                 38200   False    False  \n",
      "3   126919659                 38200   False    False  \n",
      "4   126919659                 38200   False    False  \n"
     ]
    }
   ],
   "source": [
    "def comp_lang(x):\n",
    "    s_ee_rel= wiki_df.loc[x.Searchee_upper==wiki_df.Country,:].loc[:,['Language1','Language2']].iloc[0,:]\n",
    "    s_ee_set=set(s_ee_rel)\n",
    "    try:\n",
    "        s_ee_set.remove(np.nan)\n",
    "    except:\n",
    "        pass\n",
    "    \n",
    "    s_er_rel= wiki_df.loc[x.Searcher_upper==wiki_df.Country,:].loc[:,['Language1','Language2']].iloc[0,:]\n",
    "    s_er_set=set(s_er_rel)\n",
    "    try:\n",
    "        s_er_set.remove(np.nan)\n",
    "    except:\n",
    "        pass        \n",
    "\n",
    "    return len(s_ee_set.intersection(set(s_er_set)))>0\n",
    "\n",
    "search_pred_df.loc[:,'com_lang']=search_pred_df.apply(comp_lang,axis=1)\n",
    "print search_pred_df.query('com_lang==True').head()\n",
    "print search_pred_df.query('com_lang==False').head()"
   ]
  },
  {
   "cell_type": "markdown",
   "metadata": {},
   "source": [
    "And the distance between capitals"
   ]
  },
  {
   "cell_type": "code",
   "execution_count": 219,
   "metadata": {
    "collapsed": false
   },
   "outputs": [
    {
     "data": {
      "text/html": [
       "<div>\n",
       "<table border=\"1\" class=\"dataframe\">\n",
       "  <thead>\n",
       "    <tr style=\"text-align: right;\">\n",
       "      <th></th>\n",
       "      <th>Searchee</th>\n",
       "      <th>Searcher</th>\n",
       "      <th>search_score</th>\n",
       "      <th>Searchee_upper</th>\n",
       "      <th>Searcher_upper</th>\n",
       "      <th>Population</th>\n",
       "      <th>GDP (per capita PPP)</th>\n",
       "      <th>com_rel</th>\n",
       "      <th>com_lang</th>\n",
       "      <th>dist</th>\n",
       "    </tr>\n",
       "  </thead>\n",
       "  <tbody>\n",
       "    <tr>\n",
       "      <th>0</th>\n",
       "      <td>Japan</td>\n",
       "      <td>Nigeria</td>\n",
       "      <td>-1.611521</td>\n",
       "      <td>JAPAN</td>\n",
       "      <td>NIGERIA</td>\n",
       "      <td>126919659</td>\n",
       "      <td>38200</td>\n",
       "      <td>False</td>\n",
       "      <td>False</td>\n",
       "      <td>3.906608</td>\n",
       "    </tr>\n",
       "    <tr>\n",
       "      <th>1</th>\n",
       "      <td>Japan</td>\n",
       "      <td>Pakistan</td>\n",
       "      <td>-1.618970</td>\n",
       "      <td>JAPAN</td>\n",
       "      <td>PAKISTAN</td>\n",
       "      <td>126919659</td>\n",
       "      <td>38200</td>\n",
       "      <td>False</td>\n",
       "      <td>False</td>\n",
       "      <td>3.570244</td>\n",
       "    </tr>\n",
       "    <tr>\n",
       "      <th>2</th>\n",
       "      <td>Japan</td>\n",
       "      <td>United States</td>\n",
       "      <td>-1.074902</td>\n",
       "      <td>JAPAN</td>\n",
       "      <td>UNITED STATES</td>\n",
       "      <td>126919659</td>\n",
       "      <td>38200</td>\n",
       "      <td>False</td>\n",
       "      <td>False</td>\n",
       "      <td>3.831965</td>\n",
       "    </tr>\n",
       "    <tr>\n",
       "      <th>3</th>\n",
       "      <td>Japan</td>\n",
       "      <td>France</td>\n",
       "      <td>-1.367499</td>\n",
       "      <td>JAPAN</td>\n",
       "      <td>FRANCE</td>\n",
       "      <td>126919659</td>\n",
       "      <td>38200</td>\n",
       "      <td>False</td>\n",
       "      <td>False</td>\n",
       "      <td>3.781717</td>\n",
       "    </tr>\n",
       "    <tr>\n",
       "      <th>4</th>\n",
       "      <td>Japan</td>\n",
       "      <td>Russia</td>\n",
       "      <td>-1.088058</td>\n",
       "      <td>JAPAN</td>\n",
       "      <td>RUSSIA</td>\n",
       "      <td>126919659</td>\n",
       "      <td>38200</td>\n",
       "      <td>False</td>\n",
       "      <td>False</td>\n",
       "      <td>3.668227</td>\n",
       "    </tr>\n",
       "  </tbody>\n",
       "</table>\n",
       "</div>"
      ],
      "text/plain": [
       "  Searchee       Searcher  search_score Searchee_upper Searcher_upper  \\\n",
       "0    Japan        Nigeria     -1.611521          JAPAN        NIGERIA   \n",
       "1    Japan       Pakistan     -1.618970          JAPAN       PAKISTAN   \n",
       "2    Japan  United States     -1.074902          JAPAN  UNITED STATES   \n",
       "3    Japan         France     -1.367499          JAPAN         FRANCE   \n",
       "4    Japan         Russia     -1.088058          JAPAN         RUSSIA   \n",
       "\n",
       "   Population  GDP (per capita PPP) com_rel com_lang      dist  \n",
       "0   126919659                 38200   False    False  3.906608  \n",
       "1   126919659                 38200   False    False  3.570244  \n",
       "2   126919659                 38200   False    False  3.831965  \n",
       "3   126919659                 38200   False    False  3.781717  \n",
       "4   126919659                 38200   False    False  3.668227  "
      ]
     },
     "execution_count": 219,
     "metadata": {},
     "output_type": "execute_result"
    }
   ],
   "source": [
    "def cap_dist(x):\n",
    "    s_ee_ll= wiki_df.loc[x.Searchee_upper==wiki_df.Country,:].loc[:,['Latitude','Longitude']].iloc[0,:]\n",
    "    s_er_ll= wiki_df.loc[x.Searcher_upper==wiki_df.Country,:].loc[:,['Latitude','Longitude']].iloc[0,:]\n",
    "    return np.log10(vincenty(s_ee_ll, s_er_ll).miles)\n",
    "\n",
    "search_pred_df.loc[:,'dist']=search_pred_df.apply(cap_dist,axis=1)\n",
    "search_pred_df.head()"
   ]
  },
  {
   "cell_type": "markdown",
   "metadata": {},
   "source": [
    "And finally trade"
   ]
  },
  {
   "cell_type": "code",
   "execution_count": 220,
   "metadata": {
    "collapsed": false
   },
   "outputs": [
    {
     "data": {
      "text/html": [
       "<div>\n",
       "<table border=\"1\" class=\"dataframe\">\n",
       "  <thead>\n",
       "    <tr style=\"text-align: right;\">\n",
       "      <th></th>\n",
       "      <th>origin</th>\n",
       "      <th>destination</th>\n",
       "      <th>year</th>\n",
       "      <th>sumtrade</th>\n",
       "    </tr>\n",
       "  </thead>\n",
       "  <tbody>\n",
       "    <tr>\n",
       "      <th>0</th>\n",
       "      <td>abw</td>\n",
       "      <td>arg</td>\n",
       "      <td>2012</td>\n",
       "      <td>74302.376230</td>\n",
       "    </tr>\n",
       "    <tr>\n",
       "      <th>1</th>\n",
       "      <td>abw</td>\n",
       "      <td>aut</td>\n",
       "      <td>2012</td>\n",
       "      <td>43801.052632</td>\n",
       "    </tr>\n",
       "    <tr>\n",
       "      <th>2</th>\n",
       "      <td>abw</td>\n",
       "      <td>aze</td>\n",
       "      <td>2012</td>\n",
       "      <td>83842.000000</td>\n",
       "    </tr>\n",
       "    <tr>\n",
       "      <th>3</th>\n",
       "      <td>abw</td>\n",
       "      <td>bgr</td>\n",
       "      <td>2012</td>\n",
       "      <td>21949.980000</td>\n",
       "    </tr>\n",
       "    <tr>\n",
       "      <th>4</th>\n",
       "      <td>abw</td>\n",
       "      <td>bhs</td>\n",
       "      <td>2012</td>\n",
       "      <td>198171.528571</td>\n",
       "    </tr>\n",
       "  </tbody>\n",
       "</table>\n",
       "</div>"
      ],
      "text/plain": [
       "  origin destination  year       sumtrade\n",
       "0    abw         arg  2012   74302.376230\n",
       "1    abw         aut  2012   43801.052632\n",
       "2    abw         aze  2012   83842.000000\n",
       "3    abw         bgr  2012   21949.980000\n",
       "4    abw         bhs  2012  198171.528571"
      ]
     },
     "execution_count": 220,
     "metadata": {},
     "output_type": "execute_result"
    }
   ],
   "source": [
    "trade_df.loc[:,'sumtrade']=trade_df.loc[:,['export_val','import_val']].sum(axis=1)\n",
    "trade_2012_df=trade_df.loc[:,['year','origin','destination','sumtrade']].\\\n",
    "    query('year==2012').groupby(['origin','destination']).mean().reset_index()\n",
    "trade_2012_df.head()"
   ]
  },
  {
   "cell_type": "code",
   "execution_count": 221,
   "metadata": {
    "collapsed": false
   },
   "outputs": [
    {
     "data": {
      "text/html": [
       "<div>\n",
       "<table border=\"1\" class=\"dataframe\">\n",
       "  <thead>\n",
       "    <tr style=\"text-align: right;\">\n",
       "      <th></th>\n",
       "      <th>Searchee</th>\n",
       "      <th>Searcher</th>\n",
       "      <th>search_score</th>\n",
       "      <th>Searchee_upper</th>\n",
       "      <th>Searcher_upper</th>\n",
       "      <th>Population</th>\n",
       "      <th>GDP (per capita PPP)</th>\n",
       "      <th>com_rel</th>\n",
       "      <th>com_lang</th>\n",
       "      <th>dist</th>\n",
       "      <th>sumtrade</th>\n",
       "    </tr>\n",
       "  </thead>\n",
       "  <tbody>\n",
       "    <tr>\n",
       "      <th>0</th>\n",
       "      <td>Japan</td>\n",
       "      <td>Nigeria</td>\n",
       "      <td>-1.611521</td>\n",
       "      <td>JAPAN</td>\n",
       "      <td>NIGERIA</td>\n",
       "      <td>126919659</td>\n",
       "      <td>38200</td>\n",
       "      <td>False</td>\n",
       "      <td>False</td>\n",
       "      <td>3.906608</td>\n",
       "      <td>19527.0</td>\n",
       "    </tr>\n",
       "    <tr>\n",
       "      <th>1</th>\n",
       "      <td>Japan</td>\n",
       "      <td>Pakistan</td>\n",
       "      <td>-1.618970</td>\n",
       "      <td>JAPAN</td>\n",
       "      <td>PAKISTAN</td>\n",
       "      <td>126919659</td>\n",
       "      <td>38200</td>\n",
       "      <td>False</td>\n",
       "      <td>False</td>\n",
       "      <td>3.570244</td>\n",
       "      <td>20846.0</td>\n",
       "    </tr>\n",
       "    <tr>\n",
       "      <th>2</th>\n",
       "      <td>Japan</td>\n",
       "      <td>United States</td>\n",
       "      <td>-1.074902</td>\n",
       "      <td>JAPAN</td>\n",
       "      <td>UNITED STATES</td>\n",
       "      <td>126919659</td>\n",
       "      <td>38200</td>\n",
       "      <td>False</td>\n",
       "      <td>False</td>\n",
       "      <td>3.831965</td>\n",
       "      <td>27923.0</td>\n",
       "    </tr>\n",
       "    <tr>\n",
       "      <th>3</th>\n",
       "      <td>Japan</td>\n",
       "      <td>France</td>\n",
       "      <td>-1.367499</td>\n",
       "      <td>JAPAN</td>\n",
       "      <td>FRANCE</td>\n",
       "      <td>126919659</td>\n",
       "      <td>38200</td>\n",
       "      <td>False</td>\n",
       "      <td>False</td>\n",
       "      <td>3.781717</td>\n",
       "      <td>9413.0</td>\n",
       "    </tr>\n",
       "    <tr>\n",
       "      <th>4</th>\n",
       "      <td>Japan</td>\n",
       "      <td>Russia</td>\n",
       "      <td>-1.088058</td>\n",
       "      <td>JAPAN</td>\n",
       "      <td>RUSSIA</td>\n",
       "      <td>126919659</td>\n",
       "      <td>38200</td>\n",
       "      <td>False</td>\n",
       "      <td>False</td>\n",
       "      <td>3.668227</td>\n",
       "      <td>22972.0</td>\n",
       "    </tr>\n",
       "  </tbody>\n",
       "</table>\n",
       "</div>"
      ],
      "text/plain": [
       "  Searchee       Searcher  search_score Searchee_upper Searcher_upper  \\\n",
       "0    Japan        Nigeria     -1.611521          JAPAN        NIGERIA   \n",
       "1    Japan       Pakistan     -1.618970          JAPAN       PAKISTAN   \n",
       "2    Japan  United States     -1.074902          JAPAN  UNITED STATES   \n",
       "3    Japan         France     -1.367499          JAPAN         FRANCE   \n",
       "4    Japan         Russia     -1.088058          JAPAN         RUSSIA   \n",
       "\n",
       "   Population  GDP (per capita PPP) com_rel com_lang      dist  sumtrade  \n",
       "0   126919659                 38200   False    False  3.906608   19527.0  \n",
       "1   126919659                 38200   False    False  3.570244   20846.0  \n",
       "2   126919659                 38200   False    False  3.831965   27923.0  \n",
       "3   126919659                 38200   False    False  3.781717    9413.0  \n",
       "4   126919659                 38200   False    False  3.668227   22972.0  "
      ]
     },
     "execution_count": 221,
     "metadata": {},
     "output_type": "execute_result"
    }
   ],
   "source": [
    "def comp_trade(x):\n",
    "    origin_id=trade_2012_df.origin==country_codes[x.Searcher_upper.lower()]\n",
    "    destination_id=trade_2012_df.destination==country_codes[x.Searchee_upper.lower()]   \n",
    "    find_ind=np.logical_and(destination_id , origin_id)\n",
    "    val= trade_2012_df.loc[find_ind,'sumtrade'].reset_index()\n",
    "    try:\n",
    "        val_num=val.iloc[0,0]\n",
    "    except:\n",
    "        val_num=np.nan\n",
    "\n",
    "    return val_num\n",
    "\n",
    "search_pred_df.loc[:,'sumtrade']=search_pred_df.apply(comp_trade,axis=1)\n",
    "search_pred_df.head()"
   ]
  },
  {
   "cell_type": "markdown",
   "metadata": {},
   "source": [
    "And cleanup, because I'm neurotic"
   ]
  },
  {
   "cell_type": "code",
   "execution_count": 222,
   "metadata": {
    "collapsed": false
   },
   "outputs": [
    {
     "data": {
      "text/html": [
       "<div>\n",
       "<table border=\"1\" class=\"dataframe\">\n",
       "  <thead>\n",
       "    <tr style=\"text-align: right;\">\n",
       "      <th></th>\n",
       "      <th>index</th>\n",
       "      <th>Searchee</th>\n",
       "      <th>Searcher</th>\n",
       "      <th>search_score</th>\n",
       "      <th>Population</th>\n",
       "      <th>GDP (per capita PPP)</th>\n",
       "      <th>com_rel</th>\n",
       "      <th>com_lang</th>\n",
       "      <th>dist</th>\n",
       "      <th>sumtrade</th>\n",
       "      <th>PopLog</th>\n",
       "      <th>GDP_log</th>\n",
       "    </tr>\n",
       "  </thead>\n",
       "  <tbody>\n",
       "    <tr>\n",
       "      <th>0</th>\n",
       "      <td>0</td>\n",
       "      <td>Japan</td>\n",
       "      <td>Nigeria</td>\n",
       "      <td>-1.611521</td>\n",
       "      <td>126919659</td>\n",
       "      <td>38200</td>\n",
       "      <td>False</td>\n",
       "      <td>False</td>\n",
       "      <td>3.906608</td>\n",
       "      <td>19527.0</td>\n",
       "      <td>8.103529</td>\n",
       "      <td>4.582063</td>\n",
       "    </tr>\n",
       "    <tr>\n",
       "      <th>1</th>\n",
       "      <td>1</td>\n",
       "      <td>Japan</td>\n",
       "      <td>Pakistan</td>\n",
       "      <td>-1.618970</td>\n",
       "      <td>126919659</td>\n",
       "      <td>38200</td>\n",
       "      <td>False</td>\n",
       "      <td>False</td>\n",
       "      <td>3.570244</td>\n",
       "      <td>20846.0</td>\n",
       "      <td>8.103529</td>\n",
       "      <td>4.582063</td>\n",
       "    </tr>\n",
       "    <tr>\n",
       "      <th>2</th>\n",
       "      <td>2</td>\n",
       "      <td>Japan</td>\n",
       "      <td>United States</td>\n",
       "      <td>-1.074902</td>\n",
       "      <td>126919659</td>\n",
       "      <td>38200</td>\n",
       "      <td>False</td>\n",
       "      <td>False</td>\n",
       "      <td>3.831965</td>\n",
       "      <td>27923.0</td>\n",
       "      <td>8.103529</td>\n",
       "      <td>4.582063</td>\n",
       "    </tr>\n",
       "    <tr>\n",
       "      <th>3</th>\n",
       "      <td>3</td>\n",
       "      <td>Japan</td>\n",
       "      <td>France</td>\n",
       "      <td>-1.367499</td>\n",
       "      <td>126919659</td>\n",
       "      <td>38200</td>\n",
       "      <td>False</td>\n",
       "      <td>False</td>\n",
       "      <td>3.781717</td>\n",
       "      <td>9413.0</td>\n",
       "      <td>8.103529</td>\n",
       "      <td>4.582063</td>\n",
       "    </tr>\n",
       "    <tr>\n",
       "      <th>4</th>\n",
       "      <td>4</td>\n",
       "      <td>Japan</td>\n",
       "      <td>Russia</td>\n",
       "      <td>-1.088058</td>\n",
       "      <td>126919659</td>\n",
       "      <td>38200</td>\n",
       "      <td>False</td>\n",
       "      <td>False</td>\n",
       "      <td>3.668227</td>\n",
       "      <td>22972.0</td>\n",
       "      <td>8.103529</td>\n",
       "      <td>4.582063</td>\n",
       "    </tr>\n",
       "  </tbody>\n",
       "</table>\n",
       "</div>"
      ],
      "text/plain": [
       "   index Searchee       Searcher  search_score  Population  \\\n",
       "0      0    Japan        Nigeria     -1.611521   126919659   \n",
       "1      1    Japan       Pakistan     -1.618970   126919659   \n",
       "2      2    Japan  United States     -1.074902   126919659   \n",
       "3      3    Japan         France     -1.367499   126919659   \n",
       "4      4    Japan         Russia     -1.088058   126919659   \n",
       "\n",
       "   GDP (per capita PPP) com_rel com_lang      dist  sumtrade    PopLog  \\\n",
       "0                 38200   False    False  3.906608   19527.0  8.103529   \n",
       "1                 38200   False    False  3.570244   20846.0  8.103529   \n",
       "2                 38200   False    False  3.831965   27923.0  8.103529   \n",
       "3                 38200   False    False  3.781717    9413.0  8.103529   \n",
       "4                 38200   False    False  3.668227   22972.0  8.103529   \n",
       "\n",
       "    GDP_log  \n",
       "0  4.582063  \n",
       "1  4.582063  \n",
       "2  4.582063  \n",
       "3  4.582063  \n",
       "4  4.582063  "
      ]
     },
     "execution_count": 222,
     "metadata": {},
     "output_type": "execute_result"
    }
   ],
   "source": [
    "search_pred_df2=search_pred_df.drop(['Searchee_upper','Searcher_upper'], axis=1)\n",
    "search_pred_df2.dropna(inplace=True) # For some reason, no belgium trade data\n",
    "search_pred_df2.reset_index(inplace=True)\n",
    "search_pred_df2.loc[:,'PopLog']=np.log10(search_pred_df2.loc[:,'Population'])\n",
    "search_pred_df2.loc[:,'GDP_log']=np.log10(search_pred_df2.loc[:,'GDP (per capita PPP)'])\n",
    "search_pred_df2.head()"
   ]
  },
  {
   "cell_type": "markdown",
   "metadata": {},
   "source": [
    "If we look at the data, we can see some correlations--Unsurprisingly, people search for populous, rich countries that speak their language more."
   ]
  },
  {
   "cell_type": "code",
   "execution_count": 223,
   "metadata": {
    "collapsed": false
   },
   "outputs": [
    {
     "data": {
      "text/html": [
       "<div>\n",
       "<table border=\"1\" class=\"dataframe\">\n",
       "  <thead>\n",
       "    <tr style=\"text-align: right;\">\n",
       "      <th></th>\n",
       "      <th>search_score</th>\n",
       "      <th>PopLog</th>\n",
       "      <th>GDP_log</th>\n",
       "      <th>com_rel</th>\n",
       "      <th>com_lang</th>\n",
       "      <th>sumtrade</th>\n",
       "    </tr>\n",
       "  </thead>\n",
       "  <tbody>\n",
       "    <tr>\n",
       "      <th>search_score</th>\n",
       "      <td>1.000000</td>\n",
       "      <td>0.334150</td>\n",
       "      <td>0.368082</td>\n",
       "      <td>-0.048922</td>\n",
       "      <td>0.247407</td>\n",
       "      <td>-0.094984</td>\n",
       "    </tr>\n",
       "    <tr>\n",
       "      <th>PopLog</th>\n",
       "      <td>0.334150</td>\n",
       "      <td>1.000000</td>\n",
       "      <td>0.121564</td>\n",
       "      <td>-0.232320</td>\n",
       "      <td>-0.047185</td>\n",
       "      <td>0.007255</td>\n",
       "    </tr>\n",
       "    <tr>\n",
       "      <th>GDP_log</th>\n",
       "      <td>0.368082</td>\n",
       "      <td>0.121564</td>\n",
       "      <td>1.000000</td>\n",
       "      <td>0.091545</td>\n",
       "      <td>0.014971</td>\n",
       "      <td>0.009637</td>\n",
       "    </tr>\n",
       "    <tr>\n",
       "      <th>com_rel</th>\n",
       "      <td>-0.048922</td>\n",
       "      <td>-0.232320</td>\n",
       "      <td>0.091545</td>\n",
       "      <td>1.000000</td>\n",
       "      <td>0.119902</td>\n",
       "      <td>0.064162</td>\n",
       "    </tr>\n",
       "    <tr>\n",
       "      <th>com_lang</th>\n",
       "      <td>0.247407</td>\n",
       "      <td>-0.047185</td>\n",
       "      <td>0.014971</td>\n",
       "      <td>0.119902</td>\n",
       "      <td>1.000000</td>\n",
       "      <td>0.007728</td>\n",
       "    </tr>\n",
       "    <tr>\n",
       "      <th>sumtrade</th>\n",
       "      <td>-0.094984</td>\n",
       "      <td>0.007255</td>\n",
       "      <td>0.009637</td>\n",
       "      <td>0.064162</td>\n",
       "      <td>0.007728</td>\n",
       "      <td>1.000000</td>\n",
       "    </tr>\n",
       "  </tbody>\n",
       "</table>\n",
       "</div>"
      ],
      "text/plain": [
       "              search_score    PopLog   GDP_log   com_rel  com_lang  sumtrade\n",
       "search_score      1.000000  0.334150  0.368082 -0.048922  0.247407 -0.094984\n",
       "PopLog            0.334150  1.000000  0.121564 -0.232320 -0.047185  0.007255\n",
       "GDP_log           0.368082  0.121564  1.000000  0.091545  0.014971  0.009637\n",
       "com_rel          -0.048922 -0.232320  0.091545  1.000000  0.119902  0.064162\n",
       "com_lang          0.247407 -0.047185  0.014971  0.119902  1.000000  0.007728\n",
       "sumtrade         -0.094984  0.007255  0.009637  0.064162  0.007728  1.000000"
      ]
     },
     "execution_count": 223,
     "metadata": {},
     "output_type": "execute_result"
    }
   ],
   "source": [
    "search_pred_df2.loc[:,['search_score','PopLog','GDP_log','com_rel','com_lang','sumtrade']].corr()"
   ]
  },
  {
   "cell_type": "markdown",
   "metadata": {},
   "source": [
    "# Mixed effect modeling for Google Trends"
   ]
  },
  {
   "cell_type": "code",
   "execution_count": 297,
   "metadata": {
    "collapsed": true
   },
   "outputs": [],
   "source": [
    "trend_aic={'mod_name':[],'aic':[]}\n",
    "\n",
    "def calc_aic(mdf):\n",
    "    n=len(mdf.params)-1\n",
    "    llk=mdf.llf\n",
    "    return 2*n-2*llk"
   ]
  },
  {
   "cell_type": "markdown",
   "metadata": {},
   "source": [
    "Let's start with our null"
   ]
  },
  {
   "cell_type": "code",
   "execution_count": 298,
   "metadata": {
    "collapsed": false
   },
   "outputs": [],
   "source": [
    "# md = smf.mixedlm('search_score ~1', search_pred_df2, groups=search_pred_df2['Searcher'])\n",
    "# mdf = md.fit() \n",
    "\n",
    "# trend_aic['mod_name'].append('Null')\n",
    "# trend_aic['aic'].append(calc_aic(mdf))\n",
    "# print(mdf.summary())"
   ]
  },
  {
   "cell_type": "markdown",
   "metadata": {},
   "source": [
    "Let's start by seeing how popular a country's raw properties make it."
   ]
  },
  {
   "cell_type": "code",
   "execution_count": 299,
   "metadata": {
    "collapsed": false
   },
   "outputs": [
    {
     "name": "stdout",
     "output_type": "stream",
     "text": [
      "           Mixed Linear Model Regression Results\n",
      "==========================================================\n",
      "Model:            MixedLM Dependent Variable: search_score\n",
      "No. Observations: 1364    Method:             REML        \n",
      "No. Groups:       39      Scale:              0.0716      \n",
      "Min. group size:  26      Likelihood:         -206.9127   \n",
      "Max. group size:  38      Converged:          Yes         \n",
      "Mean group size:  35.0                                    \n",
      "----------------------------------------------------------\n",
      "               Coef.  Std.Err.    z    P>|z| [0.025 0.975]\n",
      "----------------------------------------------------------\n",
      "Intercept      -4.403    0.115 -38.177 0.000 -4.630 -4.177\n",
      "PopLog          0.201    0.012  16.100 0.000  0.176  0.225\n",
      "GDP_log         0.281    0.015  18.267 0.000  0.251  0.311\n",
      "Intercept RE    0.048    0.044                            \n",
      "==========================================================\n",
      "\n"
     ]
    }
   ],
   "source": [
    "md = smf.mixedlm('search_score ~PopLog+GDP_log', search_pred_df2, groups=search_pred_df2['Searcher'])\n",
    "mdf = md.fit() \n",
    "\n",
    "trend_aic['mod_name'].append('Population,\\n& GDP')\n",
    "trend_aic['aic'].append(calc_aic(mdf))\n",
    "print(mdf.summary())"
   ]
  },
  {
   "cell_type": "markdown",
   "metadata": {},
   "source": [
    "How much does the distance between two countries add beyond that?"
   ]
  },
  {
   "cell_type": "code",
   "execution_count": 300,
   "metadata": {
    "collapsed": false
   },
   "outputs": [
    {
     "name": "stdout",
     "output_type": "stream",
     "text": [
      "           Mixed Linear Model Regression Results\n",
      "==========================================================\n",
      "Model:            MixedLM Dependent Variable: search_score\n",
      "No. Observations: 1364    Method:             REML        \n",
      "No. Groups:       39      Scale:              0.0643      \n",
      "Min. group size:  26      Likelihood:         -137.4313   \n",
      "Max. group size:  38      Converged:          Yes         \n",
      "Mean group size:  35.0                                    \n",
      "----------------------------------------------------------\n",
      "               Coef.  Std.Err.    z    P>|z| [0.025 0.975]\n",
      "----------------------------------------------------------\n",
      "Intercept      -3.466    0.133 -25.988 0.000 -3.728 -3.205\n",
      "PopLog          0.209    0.012  17.682 0.000  0.186  0.233\n",
      "GDP_log         0.282    0.015  19.348 0.000  0.254  0.311\n",
      "dist           -0.284    0.023 -12.354 0.000 -0.329 -0.239\n",
      "Intercept RE    0.046    0.045                            \n",
      "==========================================================\n",
      "\n"
     ]
    }
   ],
   "source": [
    "md = smf.mixedlm('search_score ~PopLog+GDP_log+dist', search_pred_df2, groups=search_pred_df2['Searcher'])\n",
    "mdf = md.fit() \n",
    "trend_aic['mod_name'].append('Population,\\nGDP,\\n& Distance')\n",
    "trend_aic['aic'].append(calc_aic(mdf))\n",
    "print(mdf.summary())"
   ]
  },
  {
   "cell_type": "markdown",
   "metadata": {},
   "source": [
    "Trade doesn't seem to account for much"
   ]
  },
  {
   "cell_type": "code",
   "execution_count": 301,
   "metadata": {
    "collapsed": false
   },
   "outputs": [
    {
     "name": "stdout",
     "output_type": "stream",
     "text": [
      "           Mixed Linear Model Regression Results\n",
      "==========================================================\n",
      "Model:            MixedLM Dependent Variable: search_score\n",
      "No. Observations: 1364    Method:             REML        \n",
      "No. Groups:       39      Scale:              0.0643      \n",
      "Min. group size:  26      Likelihood:         -147.8082   \n",
      "Max. group size:  38      Converged:          Yes         \n",
      "Mean group size:  35.0                                    \n",
      "----------------------------------------------------------\n",
      "               Coef.  Std.Err.    z    P>|z| [0.025 0.975]\n",
      "----------------------------------------------------------\n",
      "Intercept      -3.365    0.150 -22.475 0.000 -3.658 -3.072\n",
      "PopLog          0.209    0.012  17.684 0.000  0.186  0.233\n",
      "GDP_log         0.282    0.015  19.344 0.000  0.254  0.311\n",
      "dist           -0.284    0.023 -12.381 0.000 -0.329 -0.239\n",
      "sumtrade       -0.000    0.000  -1.483 0.138 -0.000  0.000\n",
      "Intercept RE    0.045    0.045                            \n",
      "==========================================================\n",
      "\n"
     ]
    }
   ],
   "source": [
    "md = smf.mixedlm('search_score ~PopLog+GDP_log+dist+sumtrade', search_pred_df2, groups=search_pred_df2['Searcher'])\n",
    "mdf = md.fit() \n",
    "trend_aic['mod_name'].append('Population,\\nGDP,\\nDistance,\\n& Trade')\n",
    "trend_aic['aic'].append(calc_aic(mdf))\n",
    "print(mdf.summary())"
   ]
  },
  {
   "cell_type": "markdown",
   "metadata": {},
   "source": [
    "And finally our cultural predictors seem to contribute quite nicely as well. Religion is somewhat weak, but it is possible with more granularity (Judeo-Christian->Protestant, Catholic, Jewish; Islam->Sunni, Shiite) it would have more explanatory power"
   ]
  },
  {
   "cell_type": "code",
   "execution_count": 302,
   "metadata": {
    "collapsed": false
   },
   "outputs": [
    {
     "name": "stdout",
     "output_type": "stream",
     "text": [
      "            Mixed Linear Model Regression Results\n",
      "============================================================\n",
      "Model:              MixedLM Dependent Variable: search_score\n",
      "No. Observations:   1364    Method:             REML        \n",
      "No. Groups:         39      Scale:              0.0565      \n",
      "Min. group size:    26      Likelihood:         -56.7317    \n",
      "Max. group size:    38      Converged:          Yes         \n",
      "Mean group size:    35.0                                    \n",
      "------------------------------------------------------------\n",
      "                 Coef.  Std.Err.    z    P>|z| [0.025 0.975]\n",
      "------------------------------------------------------------\n",
      "Intercept        -3.570    0.137 -26.103 0.000 -3.839 -3.302\n",
      "com_rel[T.True]  -0.054    0.022  -2.497 0.013 -0.097 -0.012\n",
      "com_lang[T.True]  0.271    0.020  13.438 0.000  0.231  0.310\n",
      "PopLog            0.207    0.012  17.726 0.000  0.184  0.230\n",
      "GDP_log           0.283    0.014  20.398 0.000  0.256  0.310\n",
      "dist             -0.248    0.022 -11.104 0.000 -0.292 -0.204\n",
      "Intercept RE      0.045    0.046                            \n",
      "============================================================\n",
      "\n"
     ]
    }
   ],
   "source": [
    "md = smf.mixedlm('search_score ~PopLog+GDP_log+dist+com_rel+com_lang', search_pred_df2, groups=search_pred_df2['Searcher'])\n",
    "mdf = md.fit() \n",
    "trend_aic['mod_name'].append('Population,\\nGDP,\\nDistance,\\nReligion,\\n& Language')\n",
    "trend_aic['aic'].append(calc_aic(mdf))\n",
    "print(mdf.summary())"
   ]
  },
  {
   "cell_type": "code",
   "execution_count": 304,
   "metadata": {
    "collapsed": false
   },
   "outputs": [
    {
     "data": {
      "image/png": "[encoded data removed]",
      "text/plain": [
       "<matplotlib.figure.Figure at 0x114bde190>"
      ]
     },
     "metadata": {},
     "output_type": "display_data"
    }
   ],
   "source": [
    "trend_df=pd.DataFrame(trend_aic)\n",
    "\n",
    "plt.figure(figsize=(10,8))\n",
    "ax=plt.axes()\n",
    "ax.yaxis.grid(True,)\n",
    "\n",
    "plt.hlines(xmin=-.5,xmax=len(trend_df)-1.5,y=trend_df['aic'][0],colors='indianred', linewidth=3,linestyles='--')\n",
    "\n",
    "plt.scatter(range(len(trend_df)-1), trend_df['aic'][1:], c='orange',marker='o',s=200)\n",
    "\n",
    "plt.ylabel('AIC',fontsize='22')\n",
    "plt.xticks(range(len(trend_df)-1), trend_df['mod_name'][1:], rotation='0',fontsize=18)\n",
    "plt.yticks(fontsize=22)\n",
    "plt.axis([-.5, len(trend_df)-1.5, 0,500])\n",
    "plt.show()"
   ]
  },
  {
   "cell_type": "markdown",
   "metadata": {},
   "source": [
    "# Predicting casualties"
   ]
  },
  {
   "cell_type": "code",
   "execution_count": 379,
   "metadata": {
    "collapsed": true
   },
   "outputs": [],
   "source": [
    "cas_aic={'mod_name':[],'aic':[]}"
   ]
  },
  {
   "cell_type": "code",
   "execution_count": 380,
   "metadata": {
    "collapsed": false
   },
   "outputs": [
    {
     "data": {
      "text/html": [
       "<div>\n",
       "<table border=\"1\" class=\"dataframe\">\n",
       "  <thead>\n",
       "    <tr style=\"text-align: right;\">\n",
       "      <th></th>\n",
       "      <th>true_name</th>\n",
       "      <th>resp_casualties_log10</th>\n",
       "      <th>level_0</th>\n",
       "      <th>index</th>\n",
       "      <th>Searchee</th>\n",
       "      <th>Searcher</th>\n",
       "      <th>search_score</th>\n",
       "      <th>Population</th>\n",
       "      <th>GDP (per capita PPP)</th>\n",
       "      <th>com_rel</th>\n",
       "      <th>com_lang</th>\n",
       "      <th>dist</th>\n",
       "      <th>PopLog</th>\n",
       "      <th>GDP_log</th>\n",
       "    </tr>\n",
       "  </thead>\n",
       "  <tbody>\n",
       "    <tr>\n",
       "      <th>0</th>\n",
       "      <td>Japan</td>\n",
       "      <td>2.382017</td>\n",
       "      <td>2</td>\n",
       "      <td>2</td>\n",
       "      <td>Japan</td>\n",
       "      <td>United States</td>\n",
       "      <td>-1.074902</td>\n",
       "      <td>126919659</td>\n",
       "      <td>38200</td>\n",
       "      <td>False</td>\n",
       "      <td>False</td>\n",
       "      <td>3.831965</td>\n",
       "      <td>8.103529</td>\n",
       "      <td>4.582063</td>\n",
       "    </tr>\n",
       "    <tr>\n",
       "      <th>1</th>\n",
       "      <td>Japan</td>\n",
       "      <td>2.419956</td>\n",
       "      <td>2</td>\n",
       "      <td>2</td>\n",
       "      <td>Japan</td>\n",
       "      <td>United States</td>\n",
       "      <td>-1.074902</td>\n",
       "      <td>126919659</td>\n",
       "      <td>38200</td>\n",
       "      <td>False</td>\n",
       "      <td>False</td>\n",
       "      <td>3.831965</td>\n",
       "      <td>8.103529</td>\n",
       "      <td>4.582063</td>\n",
       "    </tr>\n",
       "    <tr>\n",
       "      <th>2</th>\n",
       "      <td>Japan</td>\n",
       "      <td>4.954243</td>\n",
       "      <td>2</td>\n",
       "      <td>2</td>\n",
       "      <td>Japan</td>\n",
       "      <td>United States</td>\n",
       "      <td>-1.074902</td>\n",
       "      <td>126919659</td>\n",
       "      <td>38200</td>\n",
       "      <td>False</td>\n",
       "      <td>False</td>\n",
       "      <td>3.831965</td>\n",
       "      <td>8.103529</td>\n",
       "      <td>4.582063</td>\n",
       "    </tr>\n",
       "    <tr>\n",
       "      <th>3</th>\n",
       "      <td>Japan</td>\n",
       "      <td>2.416641</td>\n",
       "      <td>2</td>\n",
       "      <td>2</td>\n",
       "      <td>Japan</td>\n",
       "      <td>United States</td>\n",
       "      <td>-1.074902</td>\n",
       "      <td>126919659</td>\n",
       "      <td>38200</td>\n",
       "      <td>False</td>\n",
       "      <td>False</td>\n",
       "      <td>3.831965</td>\n",
       "      <td>8.103529</td>\n",
       "      <td>4.582063</td>\n",
       "    </tr>\n",
       "    <tr>\n",
       "      <th>4</th>\n",
       "      <td>Japan</td>\n",
       "      <td>1.698970</td>\n",
       "      <td>2</td>\n",
       "      <td>2</td>\n",
       "      <td>Japan</td>\n",
       "      <td>United States</td>\n",
       "      <td>-1.074902</td>\n",
       "      <td>126919659</td>\n",
       "      <td>38200</td>\n",
       "      <td>False</td>\n",
       "      <td>False</td>\n",
       "      <td>3.831965</td>\n",
       "      <td>8.103529</td>\n",
       "      <td>4.582063</td>\n",
       "    </tr>\n",
       "  </tbody>\n",
       "</table>\n",
       "</div>"
      ],
      "text/plain": [
       "  true_name  resp_casualties_log10  level_0  index Searchee       Searcher  \\\n",
       "0     Japan               2.382017        2      2    Japan  United States   \n",
       "1     Japan               2.419956        2      2    Japan  United States   \n",
       "2     Japan               4.954243        2      2    Japan  United States   \n",
       "3     Japan               2.416641        2      2    Japan  United States   \n",
       "4     Japan               1.698970        2      2    Japan  United States   \n",
       "\n",
       "   search_score  Population  GDP (per capita PPP) com_rel com_lang      dist  \\\n",
       "0     -1.074902   126919659                 38200   False    False  3.831965   \n",
       "1     -1.074902   126919659                 38200   False    False  3.831965   \n",
       "2     -1.074902   126919659                 38200   False    False  3.831965   \n",
       "3     -1.074902   126919659                 38200   False    False  3.831965   \n",
       "4     -1.074902   126919659                 38200   False    False  3.831965   \n",
       "\n",
       "     PopLog   GDP_log  \n",
       "0  8.103529  4.582063  \n",
       "1  8.103529  4.582063  \n",
       "2  8.103529  4.582063  \n",
       "3  8.103529  4.582063  \n",
       "4  8.103529  4.582063  "
      ]
     },
     "execution_count": 380,
     "metadata": {},
     "output_type": "execute_result"
    }
   ],
   "source": [
    "casualty_df.head()\n",
    "usa_search=search_pred_df3.loc[search_pred_df3['Searcher']=='United States',:].reset_index()\n",
    "usa_search=pd.merge(casualty_df,usa_search,left_on='true_name',right_on='Searchee')\n",
    "# Removing Liberia since Americans don't actually seem to know what it is\n",
    "usa_search=usa_search.loc[usa_search.Searchee!='Liberia',:]\n",
    "usa_search.head()"
   ]
  },
  {
   "cell_type": "markdown",
   "metadata": {},
   "source": [
    "Let's start with our raw properties model"
   ]
  },
  {
   "cell_type": "code",
   "execution_count": 381,
   "metadata": {
    "collapsed": false
   },
   "outputs": [
    {
     "name": "stdout",
     "output_type": "stream",
     "text": [
      "               Mixed Linear Model Regression Results\n",
      "===================================================================\n",
      "Model:            MixedLM Dependent Variable: resp_casualties_log10\n",
      "No. Observations: 1186    Method:             REML                 \n",
      "No. Groups:       38      Scale:              0.5767               \n",
      "Min. group size:  25      Likelihood:         -1365.9794           \n",
      "Max. group size:  37      Converged:          Yes                  \n",
      "Mean group size:  31.2                                             \n",
      "---------------------------------------------------------------------\n",
      "                 Coef.    Std.Err.     z      P>|z|   [0.025   0.975]\n",
      "---------------------------------------------------------------------\n",
      "Intercept         3.002      0.402    7.470   0.000    2.214    3.789\n",
      "PopLog            0.022      0.043    0.501   0.616   -0.063    0.107\n",
      "GDP_log          -0.221      0.053   -4.152   0.000   -0.326   -0.117\n",
      "Intercept RE      0.004      0.008                                   \n",
      "===================================================================\n",
      "\n"
     ]
    }
   ],
   "source": [
    "md = smf.mixedlm('resp_casualties_log10~PopLog+GDP_log', usa_search, groups=usa_search['Searchee'])\n",
    "mdf = md.fit() \n",
    "cas_aic['mod_name'].append('Population\\n& GDP')\n",
    "cas_aic['aic'].append(calc_aic(mdf))\n",
    "print(mdf.summary())"
   ]
  },
  {
   "cell_type": "markdown",
   "metadata": {},
   "source": [
    "Let's take a step back then and start with the GPD model"
   ]
  },
  {
   "cell_type": "code",
   "execution_count": 382,
   "metadata": {
    "collapsed": false
   },
   "outputs": [
    {
     "name": "stdout",
     "output_type": "stream",
     "text": [
      "               Mixed Linear Model Regression Results\n",
      "===================================================================\n",
      "Model:            MixedLM Dependent Variable: resp_casualties_log10\n",
      "No. Observations: 1186    Method:             REML                 \n",
      "No. Groups:       38      Scale:              0.5767               \n",
      "Min. group size:  25      Likelihood:         -1363.8841           \n",
      "Max. group size:  37      Converged:          Yes                  \n",
      "Mean group size:  31.2                                             \n",
      "---------------------------------------------------------------------\n",
      "                 Coef.    Std.Err.     z      P>|z|   [0.025   0.975]\n",
      "---------------------------------------------------------------------\n",
      "Intercept         3.169      0.220   14.426   0.000    2.739    3.600\n",
      "GDP_log          -0.221      0.053   -4.198   0.000   -0.325   -0.118\n",
      "Intercept RE      0.004      0.007                                   \n",
      "===================================================================\n",
      "\n"
     ]
    }
   ],
   "source": [
    "md = smf.mixedlm('resp_casualties_log10~GDP_log', usa_search, groups=usa_search['Searchee'])\n",
    "mdf = md.fit() \n",
    "cas_aic['mod_name'].append('GDP')\n",
    "cas_aic['aic'].append(calc_aic(mdf))\n",
    "print(mdf.summary())"
   ]
  },
  {
   "cell_type": "markdown",
   "metadata": {},
   "source": [
    "How about distance?"
   ]
  },
  {
   "cell_type": "code",
   "execution_count": 383,
   "metadata": {
    "collapsed": false
   },
   "outputs": [
    {
     "name": "stdout",
     "output_type": "stream",
     "text": [
      "               Mixed Linear Model Regression Results\n",
      "===================================================================\n",
      "Model:            MixedLM Dependent Variable: resp_casualties_log10\n",
      "No. Observations: 1186    Method:             REML                 \n",
      "No. Groups:       38      Scale:              0.5768               \n",
      "Min. group size:  25      Likelihood:         -1364.9203           \n",
      "Max. group size:  37      Converged:          Yes                  \n",
      "Mean group size:  31.2                                             \n",
      "---------------------------------------------------------------------\n",
      "                 Coef.    Std.Err.     z      P>|z|   [0.025   0.975]\n",
      "---------------------------------------------------------------------\n",
      "Intercept         2.821      0.445    6.333   0.000    1.948    3.694\n",
      "GDP_log          -0.213      0.053   -3.983   0.000   -0.318   -0.108\n",
      "dist              0.085      0.094    0.899   0.369   -0.100    0.270\n",
      "Intercept RE      0.004      0.008                                   \n",
      "===================================================================\n",
      "\n"
     ]
    }
   ],
   "source": [
    "md = smf.mixedlm('resp_casualties_log10~GDP_log+dist', usa_search, groups=usa_search['Searchee'])\n",
    "mdf = md.fit() \n",
    "cas_aic['mod_name'].append('GDP,\\n& Distance')\n",
    "cas_aic['aic'].append(calc_aic(mdf))\n",
    "print(mdf.summary())"
   ]
  },
  {
   "cell_type": "markdown",
   "metadata": {},
   "source": [
    "Cultural factors?"
   ]
  },
  {
   "cell_type": "code",
   "execution_count": 384,
   "metadata": {
    "collapsed": false
   },
   "outputs": [
    {
     "name": "stdout",
     "output_type": "stream",
     "text": [
      "               Mixed Linear Model Regression Results\n",
      "===================================================================\n",
      "Model:            MixedLM Dependent Variable: resp_casualties_log10\n",
      "No. Observations: 1186    Method:             REML                 \n",
      "No. Groups:       38      Scale:              0.5768               \n",
      "Min. group size:  25      Likelihood:         -1364.8985           \n",
      "Max. group size:  37      Converged:          Yes                  \n",
      "Mean group size:  31.2                                             \n",
      "--------------------------------------------------------------------\n",
      "                     Coef.   Std.Err.    z     P>|z|  [0.025  0.975]\n",
      "--------------------------------------------------------------------\n",
      "Intercept             3.156     0.209  15.105  0.000   2.747   3.566\n",
      "com_rel[T.True]      -0.107     0.070  -1.530  0.126  -0.243   0.030\n",
      "com_lang[T.True]     -0.084     0.049  -1.733  0.083  -0.179   0.011\n",
      "GDP_log              -0.188     0.052  -3.636  0.000  -0.290  -0.087\n",
      "Intercept RE          0.002     0.007                               \n",
      "===================================================================\n",
      "\n"
     ]
    }
   ],
   "source": [
    "md = smf.mixedlm('resp_casualties_log10~GDP_log+com_rel+com_lang', usa_search, groups=usa_search['Searchee'])\n",
    "mdf = md.fit() \n",
    "cas_aic['mod_name'].append('GDP,\\nReligion,\\n& Language')\n",
    "cas_aic['aic'].append(calc_aic(mdf))\n",
    "print(mdf.summary())"
   ]
  },
  {
   "cell_type": "code",
   "execution_count": 385,
   "metadata": {
    "collapsed": false
   },
   "outputs": [
    {
     "data": {
      "image/png": "[encoded data removed]",
      "text/plain": [
       "<matplotlib.figure.Figure at 0x13c622c10>"
      ]
     },
     "metadata": {},
     "output_type": "display_data"
    }
   ],
   "source": [
    "cas_df=pd.DataFrame(cas_aic)\n",
    "\n",
    "plt.figure(figsize=(10,8))\n",
    "ax=plt.axes()\n",
    "ax.yaxis.grid(True,)\n",
    "\n",
    "plt.hlines(xmin=-.5,xmax=len(cas_df)-1.5,y=cas_df['aic'][0],colors='indianred', linewidth=3,linestyles='--')\n",
    "\n",
    "plt.scatter(range(len(cas_df)-1), cas_df['aic'][1:], c='orange',marker='o',s=200)\n",
    "\n",
    "plt.ylabel('AIC',fontsize='22')\n",
    "plt.xticks(range(len(cas_df)-1), cas_df['mod_name'][1:], rotation='0',fontsize=18)\n",
    "plt.yticks([2730,2740,2750],fontsize=22)\n",
    "plt.axis([-.5, len(cas_df)-1.5, 2725,2750])\n",
    "plt.show()"
   ]
  },
  {
   "cell_type": "code",
   "execution_count": null,
   "metadata": {
    "collapsed": true
   },
   "outputs": [],
   "source": []
  }
 ],
 "metadata": {
  "kernelspec": {
   "display_name": "Python 2",
   "language": "python",
   "name": "python2"
  },
  "language_info": {
   "codemirror_mode": {
    "name": "ipython",
    "version": 2
   },
   "file_extension": ".py",
   "mimetype": "text/x-python",
   "name": "python",
   "nbconvert_exporter": "python",
   "pygments_lexer": "ipython2",
   "version": "2.7.9"
  }
 },
 "nbformat": 4,
 "nbformat_minor": 0
}
