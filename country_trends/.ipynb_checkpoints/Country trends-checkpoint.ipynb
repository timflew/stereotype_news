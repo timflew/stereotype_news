{
 "cells": [
  {
   "cell_type": "markdown",
   "metadata": {},
   "source": [
    "# Country search trends\n",
    "\n",
    "Previously, we measured Americans' expectations about how many casualties occurred during disasters in different countries. But there are many factors that might go into these judgments. Some might be general predictive properties--population, distance from the USA, etc.--but others might be more idiosyncratic--recent conflicts, actual earthquake baserates, etc. Here, we're going to try to identify some general predictors using Google trends data. To figure out good predictors, we're going to see how much countries care about each other as measured by how much they Google each other.\n",
    "\n",
    "Our measure for how much one Country A cares about Country B is going to be the log10 ratio of how much Country A searches for Country B divided by how much Country B searches for Country B. For example, [this search](https://www.google.com/trends/explore#q=%2Fm%2F0f8l9c%2C%20%2Fm%2F09c7w0&geo=US&date=1%2F2005%20133m&cmpt=q&tz=Etc%2FGMT%2B7) is going to allow us to see how much Americans care about the French. If we look at the summary bar graph, we're going to take log10(5/79). So, rule of thumb, less negative scores indicate the country is more searched."
   ]
  },
  {
   "cell_type": "code",
   "execution_count": 1,
   "metadata": {
    "collapsed": true
   },
   "outputs": [],
   "source": [
    "%matplotlib inline\n",
    "\n",
    "import csv\n",
    "import pandas as pd\n",
    "import numpy as np\n",
    "import statsmodels.api as sm \n",
    "import statsmodels.formula.api as smf\n",
    "import matplotlib.pyplot as plt\n",
    "import os\n",
    "import seaborn as sns\n",
    "sns.set(style=\"white\", color_codes=True)"
   ]
  },
  {
   "cell_type": "markdown",
   "metadata": {},
   "source": [
    "Let's read the raw data into a csv"
   ]
  },
  {
   "cell_type": "code",
   "execution_count": 2,
   "metadata": {
    "collapsed": false
   },
   "outputs": [
    {
     "data": {
      "text/html": [
       "<div>\n",
       "<table border=\"1\" class=\"dataframe\">\n",
       "  <thead>\n",
       "    <tr style=\"text-align: right;\">\n",
       "      <th></th>\n",
       "      <th>0</th>\n",
       "      <th>1</th>\n",
       "      <th>2</th>\n",
       "      <th>3</th>\n",
       "      <th>4</th>\n",
       "      <th>5</th>\n",
       "      <th>6</th>\n",
       "      <th>7</th>\n",
       "      <th>8</th>\n",
       "      <th>9</th>\n",
       "      <th>...</th>\n",
       "      <th>31</th>\n",
       "      <th>32</th>\n",
       "      <th>33</th>\n",
       "      <th>34</th>\n",
       "      <th>35</th>\n",
       "      <th>36</th>\n",
       "      <th>37</th>\n",
       "      <th>38</th>\n",
       "      <th>39</th>\n",
       "      <th>40</th>\n",
       "    </tr>\n",
       "  </thead>\n",
       "  <tbody>\n",
       "    <tr>\n",
       "      <th>0</th>\n",
       "      <td>NaN</td>\n",
       "      <td>Nigeria</td>\n",
       "      <td>Japan</td>\n",
       "      <td>Pakistan</td>\n",
       "      <td>United States</td>\n",
       "      <td>France</td>\n",
       "      <td>Russia</td>\n",
       "      <td>Indonesia</td>\n",
       "      <td>Mexico</td>\n",
       "      <td>Rwanda</td>\n",
       "      <td>...</td>\n",
       "      <td>Germany</td>\n",
       "      <td>Spain</td>\n",
       "      <td>Thailand</td>\n",
       "      <td>South Africa</td>\n",
       "      <td>India</td>\n",
       "      <td>Australia</td>\n",
       "      <td>Brazil</td>\n",
       "      <td>Canada</td>\n",
       "      <td>Belgium</td>\n",
       "      <td>Netherlands</td>\n",
       "    </tr>\n",
       "    <tr>\n",
       "      <th>1</th>\n",
       "      <td>Nigeria</td>\n",
       "      <td>68</td>\n",
       "      <td>1</td>\n",
       "      <td>0</td>\n",
       "      <td>14</td>\n",
       "      <td>2</td>\n",
       "      <td>1</td>\n",
       "      <td>0</td>\n",
       "      <td>0</td>\n",
       "      <td>0</td>\n",
       "      <td>...</td>\n",
       "      <td>2</td>\n",
       "      <td>1</td>\n",
       "      <td>0</td>\n",
       "      <td>3</td>\n",
       "      <td>2</td>\n",
       "      <td>2</td>\n",
       "      <td>1</td>\n",
       "      <td>5</td>\n",
       "      <td>1</td>\n",
       "      <td>1</td>\n",
       "    </tr>\n",
       "    <tr>\n",
       "      <th>2</th>\n",
       "      <td>Japan</td>\n",
       "      <td>0</td>\n",
       "      <td>66</td>\n",
       "      <td>1</td>\n",
       "      <td>16</td>\n",
       "      <td>3</td>\n",
       "      <td>2</td>\n",
       "      <td>4</td>\n",
       "      <td>3</td>\n",
       "      <td>0</td>\n",
       "      <td>...</td>\n",
       "      <td>2</td>\n",
       "      <td>2</td>\n",
       "      <td>3</td>\n",
       "      <td>2</td>\n",
       "      <td>3</td>\n",
       "      <td>4</td>\n",
       "      <td>8</td>\n",
       "      <td>2</td>\n",
       "      <td>1</td>\n",
       "      <td>1</td>\n",
       "    </tr>\n",
       "    <tr>\n",
       "      <th>3</th>\n",
       "      <td>Pakistan</td>\n",
       "      <td>0</td>\n",
       "      <td>1</td>\n",
       "      <td>70</td>\n",
       "      <td>4</td>\n",
       "      <td>0</td>\n",
       "      <td>1</td>\n",
       "      <td>0</td>\n",
       "      <td>0</td>\n",
       "      <td>0</td>\n",
       "      <td>...</td>\n",
       "      <td>1</td>\n",
       "      <td>0</td>\n",
       "      <td>1</td>\n",
       "      <td>0</td>\n",
       "      <td>5</td>\n",
       "      <td>2</td>\n",
       "      <td>0</td>\n",
       "      <td>2</td>\n",
       "      <td>0</td>\n",
       "      <td>0</td>\n",
       "    </tr>\n",
       "    <tr>\n",
       "      <th>4</th>\n",
       "      <td>United States</td>\n",
       "      <td>1</td>\n",
       "      <td>6</td>\n",
       "      <td>2</td>\n",
       "      <td>80</td>\n",
       "      <td>5</td>\n",
       "      <td>5</td>\n",
       "      <td>1</td>\n",
       "      <td>14</td>\n",
       "      <td>0</td>\n",
       "      <td>...</td>\n",
       "      <td>5</td>\n",
       "      <td>4</td>\n",
       "      <td>2</td>\n",
       "      <td>2</td>\n",
       "      <td>9</td>\n",
       "      <td>6</td>\n",
       "      <td>8</td>\n",
       "      <td>12</td>\n",
       "      <td>1</td>\n",
       "      <td>1</td>\n",
       "    </tr>\n",
       "  </tbody>\n",
       "</table>\n",
       "<p>5 rows × 41 columns</p>\n",
       "</div>"
      ],
      "text/plain": [
       "              0        1      2         3              4       5       6   \\\n",
       "0            NaN  Nigeria  Japan  Pakistan  United States  France  Russia   \n",
       "1        Nigeria       68      1         0             14       2       1   \n",
       "2          Japan        0     66         1             16       3       2   \n",
       "3       Pakistan        0      1        70              4       0       1   \n",
       "4  United States        1      6         2             80       5       5   \n",
       "\n",
       "          7       8       9      ...            31     32        33  \\\n",
       "0  Indonesia  Mexico  Rwanda     ...       Germany  Spain  Thailand   \n",
       "1          0       0       0     ...             2      1         0   \n",
       "2          4       3       0     ...             2      2         3   \n",
       "3          0       0       0     ...             1      0         1   \n",
       "4          1      14       0     ...             5      4         2   \n",
       "\n",
       "             34     35         36      37      38       39           40  \n",
       "0  South Africa  India  Australia  Brazil  Canada  Belgium  Netherlands  \n",
       "1             3      2          2       1       5        1            1  \n",
       "2             2      3          4       8       2        1            1  \n",
       "3             0      5          2       0       2        0            0  \n",
       "4             2      9          6       8      12        1            1  \n",
       "\n",
       "[5 rows x 41 columns]"
      ]
     },
     "execution_count": 2,
     "metadata": {},
     "output_type": "execute_result"
    }
   ],
   "source": [
    "trends_df=pd.read_csv('country_trends.csv',header=None)\n",
    "trends_df.head()"
   ]
  },
  {
   "cell_type": "markdown",
   "metadata": {},
   "source": [
    "And now let's turn it into our country caring measure"
   ]
  },
  {
   "cell_type": "code",
   "execution_count": 3,
   "metadata": {
    "collapsed": false
   },
   "outputs": [],
   "source": [
    "self_df=pd.DataFrame({'self_num':[int(trends_df.iloc[i,i]) for i in range(1,41)],\n",
    " 'Searcher':[trends_df.iloc[0,i] for i in range(1,41)]})"
   ]
  },
  {
   "cell_type": "code",
   "execution_count": 4,
   "metadata": {
    "collapsed": false
   },
   "outputs": [],
   "source": [
    "searcher=[]\n",
    "searchee=[]\n",
    "search_num=[]\n",
    "for s_er in range(1,41):\n",
    "    for s_ee in range(1,41):\n",
    "        if s_er!=s_ee:\n",
    "            searcher.append(trends_df.iloc[s_er,0])\n",
    "            searchee.append(trends_df.iloc[0,s_ee])        \n",
    "            search_num.append(int(trends_df.iloc[s_er,s_ee]))\n",
    "search_df=pd.DataFrame({'Searcher':searcher,'Searchee':searchee,'search_num':search_num})\n",
    "search_df=pd.merge(search_df,self_df,how='inner',on='Searcher')\n",
    "search_df.loc[:,'search_score']=np.log10((search_df.loc[:,'search_num']/search_df.loc[:,'self_num'])+np.spacing(1))"
   ]
  },
  {
   "cell_type": "markdown",
   "metadata": {},
   "source": [
    "Ok, first analysis--What countries were searched the most?"
   ]
  },
  {
   "cell_type": "code",
   "execution_count": 5,
   "metadata": {
    "collapsed": false
   },
   "outputs": [],
   "source": [
    "mean_searchee=search_df.loc[:,['Searchee','search_score']].groupby('Searchee').mean().reset_index()\n",
    "mean_searchee.columns=['Searchee', 'mean']\n",
    "std_searchee=search_df.loc[:,['Searchee','search_score']].groupby('Searchee').std()\n",
    "num_search=np.sqrt(search_df.loc[:,['Searchee','search_score']].groupby('Searchee').size())\n",
    "sem_searchee=std_searchee.divide(num_search,axis=0).reset_index()\n",
    "sem_searchee.columns=['Searchee', 'SEM']\n",
    "\n",
    "searchee_df=pd.merge(mean_searchee,sem_searchee,how='inner',on='Searchee')\n",
    "searchee_df=searchee_df.sort_values(by='mean').reset_index()"
   ]
  },
  {
   "cell_type": "code",
   "execution_count": 6,
   "metadata": {
    "collapsed": false
   },
   "outputs": [
    {
     "data": {
      "image/png": "[encoded data removed]",
      "text/plain": [
       "<matplotlib.figure.Figure at 0x114a23210>"
      ]
     },
     "metadata": {},
     "output_type": "display_data"
    }
   ],
   "source": [
    "plt.figure(figsize=(15,4))\n",
    "ax=plt.axes()\n",
    "ax.yaxis.grid(True)\n",
    "plt.errorbar(range(len(searchee_df)), searchee_df['mean'], yerr=searchee_df['SEM'],\\\n",
    "             c='orange',fmt='o',markersize=10)\n",
    "\n",
    "plt.ylabel('Search score',fontsize='22')\n",
    "plt.xticks(range(len(searchee_df)), searchee_df['Searchee'], rotation='90',fontsize=22)\n",
    "plt.yticks([-16,-12,-8,-4],fontsize=22)\n",
    "plt.axis([-.5, len(searchee_df), -17, 0])\n",
    "plt.show()"
   ]
  },
  {
   "cell_type": "markdown",
   "metadata": {},
   "source": [
    "# Country by Country Analyses"
   ]
  },
  {
   "cell_type": "markdown",
   "metadata": {},
   "source": [
    "So far we've seen that certain countries are searched more often (more \"popular\" we might say) overall. How do these patterns vary depending on what country is doing the searching?"
   ]
  },
  {
   "cell_type": "code",
   "execution_count": 12,
   "metadata": {
    "collapsed": false,
    "slideshow": {
     "slide_type": "-"
    }
   },
   "outputs": [
    {
     "data": {
      "image/png": "[encoded data removed]",
      "text/plain": [
       "<matplotlib.figure.Figure at 0x118a1c690>"
      ]
     },
     "metadata": {},
     "output_type": "display_data"
    }
   ],
   "source": [
    "search_mat=search_df.pivot('Searchee','Searcher','search_score')\n",
    "\n",
    "for i in range(0,40):\n",
    "    search_mat.iloc[i,i]=0 # Setting self-search to the max\n",
    "sns.set(font_scale=1.75)\n",
    "\n",
    "g=sns.clustermap(search_mat, linewidths=1,linecolor='#c5c9c7', figsize=(15.5,15.5),vmin=-16.0,vmax=0,cmap=\"GnBu\")\n",
    "g2=g.ax_heatmap\n",
    "y_labels=g2.set_yticklabels(g2.get_yticklabels(),rotation=0)\n",
    "g.ax_col_dendrogram.remove()\n",
    "g.ax_row_dendrogram.remove()\n",
    "sns.set(style=\"white\", color_codes=True) # Something in clustermap seems to override the set()"
   ]
  },
  {
   "cell_type": "markdown",
   "metadata": {},
   "source": [
    "# Correlation with casualty estimates\n",
    "Let's see how these results compare to our casualty results"
   ]
  },
  {
   "cell_type": "code",
   "execution_count": 13,
   "metadata": {
    "collapsed": false
   },
   "outputs": [],
   "source": [
    "countries=['Nigeria','Japan','Pakistan','United States','France','Russia', \\\n",
    "          'Indonesia','Mexico','Rwanda','Haiti','Jordan','Cuba', \\\n",
    "          'Liberia','North Korea','Syria','Iraq','Yemen','Ukraine', \\\n",
    "          'Afghanistan','Turkey','Venezuela','Egypt','Iran','Saudi Arabia', \\\n",
    "          'China','Israel','Greece','Nepal','England','New Zealand', \\\n",
    "          'Germany','Spain','Thailand','South Africa','India','Australia', \\\n",
    "          'Brazil','Canada','Belgium','Netherlands'] # These are mapped onto art_id in our dataset\n",
    "\n",
    "casualty_df=pd.read_csv('../pilot_survey_v2/mturk_data_itNews_v3.csv', quotechar=\"'\",header=None,usecols=[5,9,10,11,12,])\n",
    "casualty_df.columns=['true_country','true_casualties','resp_country','resp_poster','resp_casualties']\n",
    "\n",
    "casualty_df.loc[:,'true_casualties_log10']=np.log10(casualty_df.loc[:,'true_casualties'])\n",
    "casualty_df.loc[:,'resp_casualties_log10']=np.log10(casualty_df.loc[:,'resp_casualties'])\n",
    "\n",
    "casualty_df.loc[:,'true_name']=casualty_df.loc[:,'true_country'].apply(lambda x:countries[x])\n",
    "casualty_df=casualty_df.loc[:,['true_name','resp_casualties_log10']]"
   ]
  },
  {
   "cell_type": "code",
   "execution_count": 14,
   "metadata": {
    "collapsed": false
   },
   "outputs": [
    {
     "name": "stdout",
     "output_type": "stream",
     "text": [
      "   index     Searchee       mean       SEM  mean_cas   SEM_cas\n",
      "0     20      Liberia -15.653560  0.000000  1.742051  0.170930\n",
      "1     12        Haiti -15.300984  0.352576  2.689742  0.175097\n",
      "2     29       Rwanda -15.285821  0.367739  2.591224  0.142209\n",
      "3     39        Yemen -14.924777  0.508566  2.355522  0.140432\n",
      "4     26  North Korea -14.575293  0.606022  2.285098  0.127236\n"
     ]
    }
   ],
   "source": [
    "mean_casualty=casualty_df.groupby('true_name').mean().reset_index()\n",
    "std_casualty=casualty_df.groupby('true_name').std()\n",
    "num_casualty=np.sqrt(casualty_df.loc[:,['true_name','resp_casualties_log10']].groupby('true_name').size())\n",
    "\n",
    "sem_searchee=std_casualty.divide(num_casualty,axis=0).reset_index()\n",
    "country_casualty=pd.merge(mean_casualty,sem_searchee,on='true_name')\n",
    "country_casualty.columns=['true_name','mean_cas','SEM_cas']\n",
    "\n",
    "searchee_df2=pd.merge(searchee_df,country_casualty,left_on='Searchee',right_on='true_name')\n",
    "del searchee_df2['true_name']\n",
    "\n",
    "print searchee_df2.head()"
   ]
  },
  {
   "cell_type": "code",
   "execution_count": 15,
   "metadata": {
    "collapsed": false
   },
   "outputs": [
    {
     "data": {
      "image/png": "[encoded data removed]",
      "text/plain": [
       "<matplotlib.figure.Figure at 0x11789e9d0>"
      ]
     },
     "metadata": {},
     "output_type": "display_data"
    }
   ],
   "source": [
    "plt.figure(figsize=(10,8))\n",
    "\n",
    "plt.errorbar(searchee_df2['mean'], searchee_df2['mean_cas'], yerr=searchee_df2['SEM_cas'],\\\n",
    "             c='orange',fmt='o',markersize=8)\n",
    "\n",
    "# liberia\n",
    "liberia_df=searchee_df2[searchee_df2['Searchee']=='Liberia']\n",
    "plt.errorbar(liberia_df['mean'], liberia_df['mean_cas'], yerr=liberia_df['SEM_cas'],c='lightblue',fmt='o')\n",
    "\n",
    "plt.xlabel('Search score',fontsize='22')\n",
    "plt.ylabel('Mean log10 casualties',fontsize='22')\n",
    "#plt.xticks(range(len(searchee_df)), searchee_df['searchee'], rotation='90',fontsize=22)\n",
    "plt.xticks(fontsize=22)\n",
    "plt.yticks(fontsize=22)\n",
    "plt.axis([-17, 0, 1.5, 3])\n",
    "plt.show()"
   ]
  },
  {
   "cell_type": "markdown",
   "metadata": {},
   "source": [
    "I made Liberia blue here (bottom-left). It's a weird case--It's rarely searched and in our casualty results people seem to assume it's a small island."
   ]
  },
  {
   "cell_type": "code",
   "execution_count": 16,
   "metadata": {
    "collapsed": false
   },
   "outputs": [
    {
     "data": {
      "text/plain": [
       "-0.23932933330628467"
      ]
     },
     "execution_count": 16,
     "metadata": {},
     "output_type": "execute_result"
    }
   ],
   "source": [
    "not_liberia_df=searchee_df2[searchee_df2['Searchee']!='Liberia'] # exclude liberia because it's an outlier\n",
    "not_liberia_df[1:].corr().loc['mean','mean_cas']"
   ]
  },
  {
   "cell_type": "markdown",
   "metadata": {},
   "source": [
    "Okay, cool! There's a reasonable negative correlation between how often people search a country (marginalized across countries) and how many casualties Americans expect. This bodes well for us trying to find meaningful predictors."
   ]
  },
  {
   "cell_type": "markdown",
   "metadata": {},
   "source": [
    "# Predictors"
   ]
  },
  {
   "cell_type": "markdown",
   "metadata": {},
   "source": [
    "What factors predict what countries people search for? Drew Walker and I have already collected some data. First we have some demographic and location data from Wikipedia"
   ]
  },
  {
   "cell_type": "code",
   "execution_count": 17,
   "metadata": {
    "collapsed": false
   },
   "outputs": [
    {
     "data": {
      "text/html": [
       "<div>\n",
       "<table border=\"1\" class=\"dataframe\">\n",
       "  <thead>\n",
       "    <tr style=\"text-align: right;\">\n",
       "      <th></th>\n",
       "      <th>Country</th>\n",
       "      <th>Area (km)</th>\n",
       "      <th>Population</th>\n",
       "      <th>Life Expectancy</th>\n",
       "      <th>GDP (per capita PPP)</th>\n",
       "      <th>Religion1</th>\n",
       "      <th>Religion2</th>\n",
       "      <th>Language1</th>\n",
       "      <th>Language2</th>\n",
       "      <th>Latitude</th>\n",
       "      <th>Longitude</th>\n",
       "    </tr>\n",
       "  </thead>\n",
       "  <tbody>\n",
       "    <tr>\n",
       "      <th>0</th>\n",
       "      <td>NORTH KOREA</td>\n",
       "      <td>120538</td>\n",
       "      <td>24983205</td>\n",
       "      <td>70.11</td>\n",
       "      <td>1800</td>\n",
       "      <td>Buddhism</td>\n",
       "      <td>Confucianism</td>\n",
       "      <td>Korean</td>\n",
       "      <td>NaN</td>\n",
       "      <td>39.0392</td>\n",
       "      <td>125.7625</td>\n",
       "    </tr>\n",
       "    <tr>\n",
       "      <th>1</th>\n",
       "      <td>SYRIA</td>\n",
       "      <td>185180</td>\n",
       "      <td>17064854</td>\n",
       "      <td>74.69</td>\n",
       "      <td>5100</td>\n",
       "      <td>Islam</td>\n",
       "      <td>NaN</td>\n",
       "      <td>Arabic</td>\n",
       "      <td>NaN</td>\n",
       "      <td>33.5138</td>\n",
       "      <td>36.2765</td>\n",
       "    </tr>\n",
       "    <tr>\n",
       "      <th>2</th>\n",
       "      <td>IRAN</td>\n",
       "      <td>1648195</td>\n",
       "      <td>81824270</td>\n",
       "      <td>71.15</td>\n",
       "      <td>17800</td>\n",
       "      <td>Islam</td>\n",
       "      <td>NaN</td>\n",
       "      <td>Farsi</td>\n",
       "      <td>NaN</td>\n",
       "      <td>35.6892</td>\n",
       "      <td>51.3890</td>\n",
       "    </tr>\n",
       "    <tr>\n",
       "      <th>3</th>\n",
       "      <td>IRAQ</td>\n",
       "      <td>438317</td>\n",
       "      <td>37056169</td>\n",
       "      <td>74.85</td>\n",
       "      <td>15500</td>\n",
       "      <td>Islam</td>\n",
       "      <td>NaN</td>\n",
       "      <td>Arabic</td>\n",
       "      <td>NaN</td>\n",
       "      <td>33.3128</td>\n",
       "      <td>44.3615</td>\n",
       "    </tr>\n",
       "    <tr>\n",
       "      <th>4</th>\n",
       "      <td>AFGHANISTAN</td>\n",
       "      <td>652230</td>\n",
       "      <td>32564342</td>\n",
       "      <td>50.87</td>\n",
       "      <td>2000</td>\n",
       "      <td>Islam</td>\n",
       "      <td>NaN</td>\n",
       "      <td>Farsi</td>\n",
       "      <td>NaN</td>\n",
       "      <td>34.5553</td>\n",
       "      <td>69.2075</td>\n",
       "    </tr>\n",
       "  </tbody>\n",
       "</table>\n",
       "</div>"
      ],
      "text/plain": [
       "       Country  Area (km)  Population  Life Expectancy  GDP (per capita PPP)  \\\n",
       "0  NORTH KOREA     120538    24983205            70.11                  1800   \n",
       "1        SYRIA     185180    17064854            74.69                  5100   \n",
       "2         IRAN    1648195    81824270            71.15                 17800   \n",
       "3         IRAQ     438317    37056169            74.85                 15500   \n",
       "4  AFGHANISTAN     652230    32564342            50.87                  2000   \n",
       "\n",
       "  Religion1     Religion2 Language1 Language2  Latitude  Longitude  \n",
       "0  Buddhism  Confucianism    Korean       NaN   39.0392   125.7625  \n",
       "1     Islam           NaN    Arabic       NaN   33.5138    36.2765  \n",
       "2     Islam           NaN     Farsi       NaN   35.6892    51.3890  \n",
       "3     Islam           NaN    Arabic       NaN   33.3128    44.3615  \n",
       "4     Islam           NaN     Farsi       NaN   34.5553    69.2075  "
      ]
     },
     "execution_count": 17,
     "metadata": {},
     "output_type": "execute_result"
    }
   ],
   "source": [
    "wiki_df=pd.read_csv('wiki_facts.csv')\n",
    "wiki_df.head()"
   ]
  },
  {
   "cell_type": "markdown",
   "metadata": {},
   "source": [
    "And some trade information from [the Observatory of Economic Complexity](http://atlas.media.mit.edu/en/resources/data/). Note, you'll have to follow the link for the tsv; it was too large to upload to Github :/"
   ]
  },
  {
   "cell_type": "code",
   "execution_count": 18,
   "metadata": {
    "collapsed": false
   },
   "outputs": [
    {
     "data": {
      "text/html": [
       "<div>\n",
       "<table border=\"1\" class=\"dataframe\">\n",
       "  <thead>\n",
       "    <tr style=\"text-align: right;\">\n",
       "      <th></th>\n",
       "      <th>year</th>\n",
       "      <th>origin</th>\n",
       "      <th>destination</th>\n",
       "      <th>$prod_id</th>\n",
       "      <th>export_val</th>\n",
       "      <th>import_val</th>\n",
       "    </tr>\n",
       "  </thead>\n",
       "  <tbody>\n",
       "    <tr>\n",
       "      <th>0</th>\n",
       "      <td>2008</td>\n",
       "      <td>abw</td>\n",
       "      <td>are</td>\n",
       "      <td>2710</td>\n",
       "      <td>NaN</td>\n",
       "      <td>7621.0</td>\n",
       "    </tr>\n",
       "    <tr>\n",
       "      <th>1</th>\n",
       "      <td>2008</td>\n",
       "      <td>abw</td>\n",
       "      <td>are</td>\n",
       "      <td>8517</td>\n",
       "      <td>NaN</td>\n",
       "      <td>222708.0</td>\n",
       "    </tr>\n",
       "    <tr>\n",
       "      <th>2</th>\n",
       "      <td>2008</td>\n",
       "      <td>abw</td>\n",
       "      <td>arg</td>\n",
       "      <td>201</td>\n",
       "      <td>NaN</td>\n",
       "      <td>157715.0</td>\n",
       "    </tr>\n",
       "    <tr>\n",
       "      <th>3</th>\n",
       "      <td>2008</td>\n",
       "      <td>abw</td>\n",
       "      <td>arg</td>\n",
       "      <td>202</td>\n",
       "      <td>NaN</td>\n",
       "      <td>1044521.0</td>\n",
       "    </tr>\n",
       "    <tr>\n",
       "      <th>4</th>\n",
       "      <td>2008</td>\n",
       "      <td>abw</td>\n",
       "      <td>arg</td>\n",
       "      <td>204</td>\n",
       "      <td>NaN</td>\n",
       "      <td>66372.0</td>\n",
       "    </tr>\n",
       "  </tbody>\n",
       "</table>\n",
       "</div>"
      ],
      "text/plain": [
       "   year origin destination  $prod_id  export_val  import_val\n",
       "0  2008    abw         are      2710         NaN      7621.0\n",
       "1  2008    abw         are      8517         NaN    222708.0\n",
       "2  2008    abw         arg       201         NaN    157715.0\n",
       "3  2008    abw         arg       202         NaN   1044521.0\n",
       "4  2008    abw         arg       204         NaN     66372.0"
      ]
     },
     "execution_count": 18,
     "metadata": {},
     "output_type": "execute_result"
    }
   ],
   "source": [
    "trade_df=pd.read_csv('year_origin_destination_hs07_4.tsv',delimiter='\\t')\n",
    "country_codes={'nigeria':'nga','japan':'jpn','pakistan':'pak','united states':'usa','france':'fra','russia':'rus', 'indonesia':'idn','mexico':'mex','rwanda':'rwa','haiti':'hti','jordan':'jor','cuba':'cub', 'liberia':'lbr','north korea':'prk','syria':'syr','iraq':'irq','yemen':'yem','ukraine':'ukr', 'afghanistan':'afg','turkey':'tur','venezuela':'ven','egypt':'egy','iran':'irn','saudi arabia':'sau', 'china':'chn','israel':'isr','greece':'grc','nepal':'npl','england':'gbr','new zealand':'nzl', 'germany':'deu','spain':'esp','thailand':'tha','south africa':'zaf','india':'ind','australia':'aus', 'brazil':'bra','canada':'can','belgium':'bel','netherlands':'nld'}\n",
    "trade_df.head()"
   ]
  },
  {
   "cell_type": "markdown",
   "metadata": {},
   "source": [
    "Let's add some factors to our data"
   ]
  },
  {
   "cell_type": "code",
   "execution_count": 19,
   "metadata": {
    "collapsed": false
   },
   "outputs": [
    {
     "data": {
      "text/html": [
       "<div>\n",
       "<table border=\"1\" class=\"dataframe\">\n",
       "  <thead>\n",
       "    <tr style=\"text-align: right;\">\n",
       "      <th></th>\n",
       "      <th>Searchee</th>\n",
       "      <th>Searcher</th>\n",
       "      <th>search_score</th>\n",
       "      <th>Searchee_upper</th>\n",
       "      <th>Searcher_upper</th>\n",
       "      <th>Population</th>\n",
       "      <th>GDP (per capita PPP)</th>\n",
       "    </tr>\n",
       "  </thead>\n",
       "  <tbody>\n",
       "    <tr>\n",
       "      <th>0</th>\n",
       "      <td>Japan</td>\n",
       "      <td>Nigeria</td>\n",
       "      <td>-1.832509</td>\n",
       "      <td>JAPAN</td>\n",
       "      <td>NIGERIA</td>\n",
       "      <td>126919659</td>\n",
       "      <td>38200</td>\n",
       "    </tr>\n",
       "    <tr>\n",
       "      <th>1</th>\n",
       "      <td>Japan</td>\n",
       "      <td>Pakistan</td>\n",
       "      <td>-1.845098</td>\n",
       "      <td>JAPAN</td>\n",
       "      <td>PAKISTAN</td>\n",
       "      <td>126919659</td>\n",
       "      <td>38200</td>\n",
       "    </tr>\n",
       "    <tr>\n",
       "      <th>2</th>\n",
       "      <td>Japan</td>\n",
       "      <td>United States</td>\n",
       "      <td>-1.124939</td>\n",
       "      <td>JAPAN</td>\n",
       "      <td>UNITED STATES</td>\n",
       "      <td>126919659</td>\n",
       "      <td>38200</td>\n",
       "    </tr>\n",
       "    <tr>\n",
       "      <th>3</th>\n",
       "      <td>Japan</td>\n",
       "      <td>France</td>\n",
       "      <td>-1.477121</td>\n",
       "      <td>JAPAN</td>\n",
       "      <td>FRANCE</td>\n",
       "      <td>126919659</td>\n",
       "      <td>38200</td>\n",
       "    </tr>\n",
       "    <tr>\n",
       "      <th>4</th>\n",
       "      <td>Japan</td>\n",
       "      <td>Russia</td>\n",
       "      <td>-1.139879</td>\n",
       "      <td>JAPAN</td>\n",
       "      <td>RUSSIA</td>\n",
       "      <td>126919659</td>\n",
       "      <td>38200</td>\n",
       "    </tr>\n",
       "  </tbody>\n",
       "</table>\n",
       "</div>"
      ],
      "text/plain": [
       "  Searchee       Searcher  search_score Searchee_upper Searcher_upper  \\\n",
       "0    Japan        Nigeria     -1.832509          JAPAN        NIGERIA   \n",
       "1    Japan       Pakistan     -1.845098          JAPAN       PAKISTAN   \n",
       "2    Japan  United States     -1.124939          JAPAN  UNITED STATES   \n",
       "3    Japan         France     -1.477121          JAPAN         FRANCE   \n",
       "4    Japan         Russia     -1.139879          JAPAN         RUSSIA   \n",
       "\n",
       "   Population  GDP (per capita PPP)  \n",
       "0   126919659                 38200  \n",
       "1   126919659                 38200  \n",
       "2   126919659                 38200  \n",
       "3   126919659                 38200  \n",
       "4   126919659                 38200  "
      ]
     },
     "execution_count": 19,
     "metadata": {},
     "output_type": "execute_result"
    }
   ],
   "source": [
    "unidir_data=wiki_df.loc[:,['Country','Population','GDP (per capita PPP)']]\n",
    "\n",
    "# the wiki_facts.csv data uses uppercase\n",
    "search_df.loc[:,'Searchee_upper']=[i.upper() for i in search_df.loc[:,'Searchee']] \n",
    "search_df.loc[:,'Searcher_upper']=[i.upper() for i in search_df.loc[:,'Searcher']] \n",
    "search_pred_df=pd.merge(search_df,unidir_data,\\\n",
    "                        left_on='Searchee_upper',right_on='Country')\n",
    "search_pred_df.drop(['Country','search_num','self_num'], axis=1, inplace=True)\n",
    "search_pred_df.head()"
   ]
  },
  {
   "cell_type": "markdown",
   "metadata": {},
   "source": [
    "And let's add in a factor for shared religion"
   ]
  },
  {
   "cell_type": "code",
   "execution_count": 22,
   "metadata": {
    "collapsed": false
   },
   "outputs": [
    {
     "name": "stdout",
     "output_type": "stream",
     "text": [
      "    Searchee     Searcher  search_score Searchee_upper Searcher_upper  \\\n",
      "12     Japan  North Korea    -15.653560          JAPAN    NORTH KOREA   \n",
      "23     Japan        China     -0.619789          JAPAN          CHINA   \n",
      "26     Japan        Nepal     -1.596597          JAPAN          NEPAL   \n",
      "31     Japan     Thailand     -0.865301          JAPAN       THAILAND   \n",
      "39  Pakistan      Nigeria    -15.653560       PAKISTAN        NIGERIA   \n",
      "\n",
      "    Population  GDP (per capita PPP) com_rel  \n",
      "12   126919659                 38200    True  \n",
      "23   126919659                 38200    True  \n",
      "26   126919659                 38200    True  \n",
      "31   126919659                 38200    True  \n",
      "39   199085847                  4900    True  \n",
      "  Searchee       Searcher  search_score Searchee_upper Searcher_upper  \\\n",
      "0    Japan        Nigeria     -1.832509          JAPAN        NIGERIA   \n",
      "1    Japan       Pakistan     -1.845098          JAPAN       PAKISTAN   \n",
      "2    Japan  United States     -1.124939          JAPAN  UNITED STATES   \n",
      "3    Japan         France     -1.477121          JAPAN         FRANCE   \n",
      "4    Japan         Russia     -1.139879          JAPAN         RUSSIA   \n",
      "\n",
      "   Population  GDP (per capita PPP) com_rel  \n",
      "0   126919659                 38200   False  \n",
      "1   126919659                 38200   False  \n",
      "2   126919659                 38200   False  \n",
      "3   126919659                 38200   False  \n",
      "4   126919659                 38200   False  \n"
     ]
    }
   ],
   "source": [
    "def comp_rel(x):\n",
    "    s_ee_rel= wiki_df.loc[x.Searchee_upper==wiki_df.Country,:].loc[:,['Religion1','Religion2']].iloc[0,:]\n",
    "    s_er_rel= wiki_df.loc[x.Searcher_upper==wiki_df.Country,:].loc[:,['Religion1','Religion2']].iloc[0,:]\n",
    "    return len(set(s_ee_rel).intersection(set(s_er_rel)))>0\n",
    "\n",
    "search_pred_df.loc[:,'com_rel']=search_pred_df.apply(comp_rel,axis=1)\n",
    "print search_pred_df.query('com_rel==True').head()\n",
    "print search_pred_df.query('com_rel==False').head()"
   ]
  },
  {
   "cell_type": "markdown",
   "metadata": {},
   "source": [
    "And one for common language"
   ]
  },
  {
   "cell_type": "code",
   "execution_count": 23,
   "metadata": {
    "collapsed": false
   },
   "outputs": [
    {
     "name": "stdout",
     "output_type": "stream",
     "text": [
      "    Searchee       Searcher  search_score Searchee_upper Searcher_upper  \\\n",
      "39  Pakistan        Nigeria    -15.653560       PAKISTAN        NIGERIA   \n",
      "41  Pakistan  United States     -1.602060       PAKISTAN  UNITED STATES   \n",
      "48  Pakistan         Jordan    -15.653560       PAKISTAN         JORDAN   \n",
      "50  Pakistan        Liberia     -1.135663       PAKISTAN        LIBERIA   \n",
      "66  Pakistan        England     -0.708515       PAKISTAN        ENGLAND   \n",
      "\n",
      "    Population  GDP (per capita PPP) com_rel com_lang  \n",
      "39   199085847                  4900    True     True  \n",
      "41   199085847                  4900    True     True  \n",
      "48   199085847                  4900    True     True  \n",
      "50   199085847                  4900    True     True  \n",
      "66   199085847                  4900    True     True  \n",
      "  Searchee       Searcher  search_score Searchee_upper Searcher_upper  \\\n",
      "0    Japan        Nigeria     -1.832509          JAPAN        NIGERIA   \n",
      "1    Japan       Pakistan     -1.845098          JAPAN       PAKISTAN   \n",
      "2    Japan  United States     -1.124939          JAPAN  UNITED STATES   \n",
      "3    Japan         France     -1.477121          JAPAN         FRANCE   \n",
      "4    Japan         Russia     -1.139879          JAPAN         RUSSIA   \n",
      "\n",
      "   Population  GDP (per capita PPP) com_rel com_lang  \n",
      "0   126919659                 38200   False    False  \n",
      "1   126919659                 38200   False    False  \n",
      "2   126919659                 38200   False    False  \n",
      "3   126919659                 38200   False    False  \n",
      "4   126919659                 38200   False    False  \n"
     ]
    }
   ],
   "source": [
    "def comp_lang(x):\n",
    "    s_ee_rel= wiki_df.loc[x.Searchee_upper==wiki_df.Country,:].loc[:,['Language1','Language2']].iloc[0,:]\n",
    "    s_ee_set=set(s_ee_rel)\n",
    "    try:\n",
    "        s_ee_set.remove(np.nan)\n",
    "    except:\n",
    "        pass\n",
    "    \n",
    "    s_er_rel= wiki_df.loc[x.Searcher_upper==wiki_df.Country,:].loc[:,['Language1','Language2']].iloc[0,:]\n",
    "    s_er_set=set(s_er_rel)\n",
    "    try:\n",
    "        s_er_set.remove(np.nan)\n",
    "    except:\n",
    "        pass        \n",
    "\n",
    "    return len(s_ee_set.intersection(set(s_er_set)))>0\n",
    "\n",
    "search_pred_df.loc[:,'com_lang']=search_pred_df.apply(comp_lang,axis=1)\n",
    "print search_pred_df.query('com_lang==True').head()\n",
    "print search_pred_df.query('com_lang==False').head()"
   ]
  },
  {
   "cell_type": "markdown",
   "metadata": {},
   "source": [
    "And the distance between capitals"
   ]
  },
  {
   "cell_type": "code",
   "execution_count": 24,
   "metadata": {
    "collapsed": false
   },
   "outputs": [
    {
     "data": {
      "text/html": [
       "<div>\n",
       "<table border=\"1\" class=\"dataframe\">\n",
       "  <thead>\n",
       "    <tr style=\"text-align: right;\">\n",
       "      <th></th>\n",
       "      <th>Searchee</th>\n",
       "      <th>Searcher</th>\n",
       "      <th>search_score</th>\n",
       "      <th>Searchee_upper</th>\n",
       "      <th>Searcher_upper</th>\n",
       "      <th>Population</th>\n",
       "      <th>GDP (per capita PPP)</th>\n",
       "      <th>com_rel</th>\n",
       "      <th>com_lang</th>\n",
       "      <th>dist</th>\n",
       "    </tr>\n",
       "  </thead>\n",
       "  <tbody>\n",
       "    <tr>\n",
       "      <th>0</th>\n",
       "      <td>Japan</td>\n",
       "      <td>Nigeria</td>\n",
       "      <td>-1.832509</td>\n",
       "      <td>JAPAN</td>\n",
       "      <td>NIGERIA</td>\n",
       "      <td>126919659</td>\n",
       "      <td>38200</td>\n",
       "      <td>False</td>\n",
       "      <td>False</td>\n",
       "      <td>134.943381</td>\n",
       "    </tr>\n",
       "    <tr>\n",
       "      <th>1</th>\n",
       "      <td>Japan</td>\n",
       "      <td>Pakistan</td>\n",
       "      <td>-1.845098</td>\n",
       "      <td>JAPAN</td>\n",
       "      <td>PAKISTAN</td>\n",
       "      <td>126919659</td>\n",
       "      <td>38200</td>\n",
       "      <td>False</td>\n",
       "      <td>False</td>\n",
       "      <td>66.627438</td>\n",
       "    </tr>\n",
       "    <tr>\n",
       "      <th>2</th>\n",
       "      <td>Japan</td>\n",
       "      <td>United States</td>\n",
       "      <td>-1.124939</td>\n",
       "      <td>JAPAN</td>\n",
       "      <td>UNITED STATES</td>\n",
       "      <td>126919659</td>\n",
       "      <td>38200</td>\n",
       "      <td>False</td>\n",
       "      <td>False</td>\n",
       "      <td>216.724335</td>\n",
       "    </tr>\n",
       "    <tr>\n",
       "      <th>3</th>\n",
       "      <td>Japan</td>\n",
       "      <td>France</td>\n",
       "      <td>-1.477121</td>\n",
       "      <td>JAPAN</td>\n",
       "      <td>FRANCE</td>\n",
       "      <td>126919659</td>\n",
       "      <td>38200</td>\n",
       "      <td>False</td>\n",
       "      <td>False</td>\n",
       "      <td>137.969239</td>\n",
       "    </tr>\n",
       "    <tr>\n",
       "      <th>4</th>\n",
       "      <td>Japan</td>\n",
       "      <td>Russia</td>\n",
       "      <td>-1.139879</td>\n",
       "      <td>JAPAN</td>\n",
       "      <td>RUSSIA</td>\n",
       "      <td>126919659</td>\n",
       "      <td>38200</td>\n",
       "      <td>False</td>\n",
       "      <td>False</td>\n",
       "      <td>104.028071</td>\n",
       "    </tr>\n",
       "  </tbody>\n",
       "</table>\n",
       "</div>"
      ],
      "text/plain": [
       "  Searchee       Searcher  search_score Searchee_upper Searcher_upper  \\\n",
       "0    Japan        Nigeria     -1.832509          JAPAN        NIGERIA   \n",
       "1    Japan       Pakistan     -1.845098          JAPAN       PAKISTAN   \n",
       "2    Japan  United States     -1.124939          JAPAN  UNITED STATES   \n",
       "3    Japan         France     -1.477121          JAPAN         FRANCE   \n",
       "4    Japan         Russia     -1.139879          JAPAN         RUSSIA   \n",
       "\n",
       "   Population  GDP (per capita PPP) com_rel com_lang        dist  \n",
       "0   126919659                 38200   False    False  134.943381  \n",
       "1   126919659                 38200   False    False   66.627438  \n",
       "2   126919659                 38200   False    False  216.724335  \n",
       "3   126919659                 38200   False    False  137.969239  \n",
       "4   126919659                 38200   False    False  104.028071  "
      ]
     },
     "execution_count": 24,
     "metadata": {},
     "output_type": "execute_result"
    }
   ],
   "source": [
    "def cap_dist(x):\n",
    "    s_ee_ll= wiki_df.loc[x.Searchee_upper==wiki_df.Country,:].loc[:,['Latitude','Longitude']].iloc[0,:]\n",
    "    s_er_ll= wiki_df.loc[x.Searcher_upper==wiki_df.Country,:].loc[:,['Latitude','Longitude']].iloc[0,:]\n",
    "    return np.sqrt(np.sum(pow(s_ee_ll-s_er_ll,2)))\n",
    "\n",
    "search_pred_df.loc[:,'dist']=search_pred_df.apply(cap_dist,axis=1)\n",
    "search_pred_df.head()"
   ]
  },
  {
   "cell_type": "markdown",
   "metadata": {},
   "source": [
    "And finally trade"
   ]
  },
  {
   "cell_type": "code",
   "execution_count": 25,
   "metadata": {
    "collapsed": false
   },
   "outputs": [
    {
     "data": {
      "text/html": [
       "<div>\n",
       "<table border=\"1\" class=\"dataframe\">\n",
       "  <thead>\n",
       "    <tr style=\"text-align: right;\">\n",
       "      <th></th>\n",
       "      <th>origin</th>\n",
       "      <th>destination</th>\n",
       "      <th>year</th>\n",
       "      <th>sumtrade</th>\n",
       "    </tr>\n",
       "  </thead>\n",
       "  <tbody>\n",
       "    <tr>\n",
       "      <th>0</th>\n",
       "      <td>abw</td>\n",
       "      <td>arg</td>\n",
       "      <td>2012</td>\n",
       "      <td>74302.376230</td>\n",
       "    </tr>\n",
       "    <tr>\n",
       "      <th>1</th>\n",
       "      <td>abw</td>\n",
       "      <td>aut</td>\n",
       "      <td>2012</td>\n",
       "      <td>43801.052632</td>\n",
       "    </tr>\n",
       "    <tr>\n",
       "      <th>2</th>\n",
       "      <td>abw</td>\n",
       "      <td>aze</td>\n",
       "      <td>2012</td>\n",
       "      <td>83842.000000</td>\n",
       "    </tr>\n",
       "    <tr>\n",
       "      <th>3</th>\n",
       "      <td>abw</td>\n",
       "      <td>bgr</td>\n",
       "      <td>2012</td>\n",
       "      <td>21949.980000</td>\n",
       "    </tr>\n",
       "    <tr>\n",
       "      <th>4</th>\n",
       "      <td>abw</td>\n",
       "      <td>bhs</td>\n",
       "      <td>2012</td>\n",
       "      <td>198171.528571</td>\n",
       "    </tr>\n",
       "  </tbody>\n",
       "</table>\n",
       "</div>"
      ],
      "text/plain": [
       "  origin destination  year       sumtrade\n",
       "0    abw         arg  2012   74302.376230\n",
       "1    abw         aut  2012   43801.052632\n",
       "2    abw         aze  2012   83842.000000\n",
       "3    abw         bgr  2012   21949.980000\n",
       "4    abw         bhs  2012  198171.528571"
      ]
     },
     "execution_count": 25,
     "metadata": {},
     "output_type": "execute_result"
    }
   ],
   "source": [
    "trade_df.loc[:,'sumtrade']=trade_df.loc[:,['export_val','import_val']].sum(axis=1)\n",
    "trade_2012_df=trade_df.loc[:,['year','origin','destination','sumtrade']].\\\n",
    "    query('year==2012').groupby(['origin','destination']).mean().reset_index()\n",
    "trade_2012_df.head()"
   ]
  },
  {
   "cell_type": "code",
   "execution_count": 26,
   "metadata": {
    "collapsed": false
   },
   "outputs": [
    {
     "data": {
      "text/html": [
       "<div>\n",
       "<table border=\"1\" class=\"dataframe\">\n",
       "  <thead>\n",
       "    <tr style=\"text-align: right;\">\n",
       "      <th></th>\n",
       "      <th>Searchee</th>\n",
       "      <th>Searcher</th>\n",
       "      <th>search_score</th>\n",
       "      <th>Searchee_upper</th>\n",
       "      <th>Searcher_upper</th>\n",
       "      <th>Population</th>\n",
       "      <th>GDP (per capita PPP)</th>\n",
       "      <th>com_rel</th>\n",
       "      <th>com_lang</th>\n",
       "      <th>dist</th>\n",
       "      <th>sumtrade</th>\n",
       "    </tr>\n",
       "  </thead>\n",
       "  <tbody>\n",
       "    <tr>\n",
       "      <th>0</th>\n",
       "      <td>Japan</td>\n",
       "      <td>Nigeria</td>\n",
       "      <td>-1.832509</td>\n",
       "      <td>JAPAN</td>\n",
       "      <td>NIGERIA</td>\n",
       "      <td>126919659</td>\n",
       "      <td>38200</td>\n",
       "      <td>False</td>\n",
       "      <td>False</td>\n",
       "      <td>134.943381</td>\n",
       "      <td>19527.0</td>\n",
       "    </tr>\n",
       "    <tr>\n",
       "      <th>1</th>\n",
       "      <td>Japan</td>\n",
       "      <td>Pakistan</td>\n",
       "      <td>-1.845098</td>\n",
       "      <td>JAPAN</td>\n",
       "      <td>PAKISTAN</td>\n",
       "      <td>126919659</td>\n",
       "      <td>38200</td>\n",
       "      <td>False</td>\n",
       "      <td>False</td>\n",
       "      <td>66.627438</td>\n",
       "      <td>20846.0</td>\n",
       "    </tr>\n",
       "    <tr>\n",
       "      <th>2</th>\n",
       "      <td>Japan</td>\n",
       "      <td>United States</td>\n",
       "      <td>-1.124939</td>\n",
       "      <td>JAPAN</td>\n",
       "      <td>UNITED STATES</td>\n",
       "      <td>126919659</td>\n",
       "      <td>38200</td>\n",
       "      <td>False</td>\n",
       "      <td>False</td>\n",
       "      <td>216.724335</td>\n",
       "      <td>27923.0</td>\n",
       "    </tr>\n",
       "    <tr>\n",
       "      <th>3</th>\n",
       "      <td>Japan</td>\n",
       "      <td>France</td>\n",
       "      <td>-1.477121</td>\n",
       "      <td>JAPAN</td>\n",
       "      <td>FRANCE</td>\n",
       "      <td>126919659</td>\n",
       "      <td>38200</td>\n",
       "      <td>False</td>\n",
       "      <td>False</td>\n",
       "      <td>137.969239</td>\n",
       "      <td>9413.0</td>\n",
       "    </tr>\n",
       "    <tr>\n",
       "      <th>4</th>\n",
       "      <td>Japan</td>\n",
       "      <td>Russia</td>\n",
       "      <td>-1.139879</td>\n",
       "      <td>JAPAN</td>\n",
       "      <td>RUSSIA</td>\n",
       "      <td>126919659</td>\n",
       "      <td>38200</td>\n",
       "      <td>False</td>\n",
       "      <td>False</td>\n",
       "      <td>104.028071</td>\n",
       "      <td>22972.0</td>\n",
       "    </tr>\n",
       "  </tbody>\n",
       "</table>\n",
       "</div>"
      ],
      "text/plain": [
       "  Searchee       Searcher  search_score Searchee_upper Searcher_upper  \\\n",
       "0    Japan        Nigeria     -1.832509          JAPAN        NIGERIA   \n",
       "1    Japan       Pakistan     -1.845098          JAPAN       PAKISTAN   \n",
       "2    Japan  United States     -1.124939          JAPAN  UNITED STATES   \n",
       "3    Japan         France     -1.477121          JAPAN         FRANCE   \n",
       "4    Japan         Russia     -1.139879          JAPAN         RUSSIA   \n",
       "\n",
       "   Population  GDP (per capita PPP) com_rel com_lang        dist  sumtrade  \n",
       "0   126919659                 38200   False    False  134.943381   19527.0  \n",
       "1   126919659                 38200   False    False   66.627438   20846.0  \n",
       "2   126919659                 38200   False    False  216.724335   27923.0  \n",
       "3   126919659                 38200   False    False  137.969239    9413.0  \n",
       "4   126919659                 38200   False    False  104.028071   22972.0  "
      ]
     },
     "execution_count": 26,
     "metadata": {},
     "output_type": "execute_result"
    }
   ],
   "source": [
    "def comp_trade(x):\n",
    "    origin_id=trade_2012_df.origin==country_codes[x.Searcher_upper.lower()]\n",
    "    destination_id=trade_2012_df.destination==country_codes[x.Searchee_upper.lower()]   \n",
    "    find_ind=np.logical_and(destination_id , origin_id)\n",
    "    val= trade_2012_df.loc[find_ind,'sumtrade'].reset_index()\n",
    "    try:\n",
    "        val_num=val.iloc[0,0]\n",
    "    except:\n",
    "        val_num=np.nan\n",
    "\n",
    "    return val_num\n",
    "\n",
    "search_pred_df.loc[:,'sumtrade']=search_pred_df.apply(comp_trade,axis=1)\n",
    "search_pred_df.head()"
   ]
  },
  {
   "cell_type": "markdown",
   "metadata": {},
   "source": [
    "And cleanup, because I'm neurotic"
   ]
  },
  {
   "cell_type": "code",
   "execution_count": 54,
   "metadata": {
    "collapsed": false
   },
   "outputs": [
    {
     "data": {
      "text/html": [
       "<div>\n",
       "<table border=\"1\" class=\"dataframe\">\n",
       "  <thead>\n",
       "    <tr style=\"text-align: right;\">\n",
       "      <th></th>\n",
       "      <th>index</th>\n",
       "      <th>Searchee</th>\n",
       "      <th>Searcher</th>\n",
       "      <th>search_score</th>\n",
       "      <th>Population</th>\n",
       "      <th>GDP (per capita PPP)</th>\n",
       "      <th>com_rel</th>\n",
       "      <th>com_lang</th>\n",
       "      <th>dist</th>\n",
       "      <th>sumtrade</th>\n",
       "      <th>PopLog</th>\n",
       "      <th>GDP_log</th>\n",
       "    </tr>\n",
       "  </thead>\n",
       "  <tbody>\n",
       "    <tr>\n",
       "      <th>0</th>\n",
       "      <td>0</td>\n",
       "      <td>Japan</td>\n",
       "      <td>Nigeria</td>\n",
       "      <td>-1.832509</td>\n",
       "      <td>126919659</td>\n",
       "      <td>38200</td>\n",
       "      <td>False</td>\n",
       "      <td>False</td>\n",
       "      <td>134.943381</td>\n",
       "      <td>19527.0</td>\n",
       "      <td>8.103529</td>\n",
       "      <td>4.582063</td>\n",
       "    </tr>\n",
       "    <tr>\n",
       "      <th>1</th>\n",
       "      <td>1</td>\n",
       "      <td>Japan</td>\n",
       "      <td>Pakistan</td>\n",
       "      <td>-1.845098</td>\n",
       "      <td>126919659</td>\n",
       "      <td>38200</td>\n",
       "      <td>False</td>\n",
       "      <td>False</td>\n",
       "      <td>66.627438</td>\n",
       "      <td>20846.0</td>\n",
       "      <td>8.103529</td>\n",
       "      <td>4.582063</td>\n",
       "    </tr>\n",
       "    <tr>\n",
       "      <th>2</th>\n",
       "      <td>2</td>\n",
       "      <td>Japan</td>\n",
       "      <td>United States</td>\n",
       "      <td>-1.124939</td>\n",
       "      <td>126919659</td>\n",
       "      <td>38200</td>\n",
       "      <td>False</td>\n",
       "      <td>False</td>\n",
       "      <td>216.724335</td>\n",
       "      <td>27923.0</td>\n",
       "      <td>8.103529</td>\n",
       "      <td>4.582063</td>\n",
       "    </tr>\n",
       "    <tr>\n",
       "      <th>3</th>\n",
       "      <td>3</td>\n",
       "      <td>Japan</td>\n",
       "      <td>France</td>\n",
       "      <td>-1.477121</td>\n",
       "      <td>126919659</td>\n",
       "      <td>38200</td>\n",
       "      <td>False</td>\n",
       "      <td>False</td>\n",
       "      <td>137.969239</td>\n",
       "      <td>9413.0</td>\n",
       "      <td>8.103529</td>\n",
       "      <td>4.582063</td>\n",
       "    </tr>\n",
       "    <tr>\n",
       "      <th>4</th>\n",
       "      <td>4</td>\n",
       "      <td>Japan</td>\n",
       "      <td>Russia</td>\n",
       "      <td>-1.139879</td>\n",
       "      <td>126919659</td>\n",
       "      <td>38200</td>\n",
       "      <td>False</td>\n",
       "      <td>False</td>\n",
       "      <td>104.028071</td>\n",
       "      <td>22972.0</td>\n",
       "      <td>8.103529</td>\n",
       "      <td>4.582063</td>\n",
       "    </tr>\n",
       "  </tbody>\n",
       "</table>\n",
       "</div>"
      ],
      "text/plain": [
       "   index Searchee       Searcher  search_score  Population  \\\n",
       "0      0    Japan        Nigeria     -1.832509   126919659   \n",
       "1      1    Japan       Pakistan     -1.845098   126919659   \n",
       "2      2    Japan  United States     -1.124939   126919659   \n",
       "3      3    Japan         France     -1.477121   126919659   \n",
       "4      4    Japan         Russia     -1.139879   126919659   \n",
       "\n",
       "   GDP (per capita PPP) com_rel com_lang        dist  sumtrade    PopLog  \\\n",
       "0                 38200   False    False  134.943381   19527.0  8.103529   \n",
       "1                 38200   False    False   66.627438   20846.0  8.103529   \n",
       "2                 38200   False    False  216.724335   27923.0  8.103529   \n",
       "3                 38200   False    False  137.969239    9413.0  8.103529   \n",
       "4                 38200   False    False  104.028071   22972.0  8.103529   \n",
       "\n",
       "    GDP_log  \n",
       "0  4.582063  \n",
       "1  4.582063  \n",
       "2  4.582063  \n",
       "3  4.582063  \n",
       "4  4.582063  "
      ]
     },
     "execution_count": 54,
     "metadata": {},
     "output_type": "execute_result"
    }
   ],
   "source": [
    "search_pred_df2=search_pred_df.drop(['Searchee_upper','Searcher_upper'], axis=1)\n",
    "search_pred_df2.dropna(inplace=True) # For some reason, no belgium trade data\n",
    "search_pred_df2.reset_index(inplace=True)\n",
    "search_pred_df2.loc[:,'PopLog']=np.log10(search_pred_df2.loc[:,'Population'])\n",
    "search_pred_df2.loc[:,'GDP_log']=np.log10(search_pred_df2.loc[:,'GDP (per capita PPP)'])\n",
    "search_pred_df2.head()"
   ]
  },
  {
   "cell_type": "markdown",
   "metadata": {},
   "source": [
    "If we look at the parameters, we can see some correlations--Unsurprisingly, people search for populous, rich countries that speak their language more."
   ]
  },
  {
   "cell_type": "code",
   "execution_count": 72,
   "metadata": {
    "collapsed": false
   },
   "outputs": [
    {
     "data": {
      "text/html": [
       "<div>\n",
       "<table border=\"1\" class=\"dataframe\">\n",
       "  <thead>\n",
       "    <tr style=\"text-align: right;\">\n",
       "      <th></th>\n",
       "      <th>search_score</th>\n",
       "      <th>PopLog</th>\n",
       "      <th>GDP_log</th>\n",
       "      <th>com_rel</th>\n",
       "      <th>com_lang</th>\n",
       "      <th>sumtrade</th>\n",
       "    </tr>\n",
       "  </thead>\n",
       "  <tbody>\n",
       "    <tr>\n",
       "      <th>search_score</th>\n",
       "      <td>1.000000</td>\n",
       "      <td>0.332950</td>\n",
       "      <td>0.393744</td>\n",
       "      <td>-0.070911</td>\n",
       "      <td>0.200079</td>\n",
       "      <td>-0.075671</td>\n",
       "    </tr>\n",
       "    <tr>\n",
       "      <th>PopLog</th>\n",
       "      <td>0.332950</td>\n",
       "      <td>1.000000</td>\n",
       "      <td>0.121564</td>\n",
       "      <td>-0.232320</td>\n",
       "      <td>-0.047185</td>\n",
       "      <td>0.007255</td>\n",
       "    </tr>\n",
       "    <tr>\n",
       "      <th>GDP_log</th>\n",
       "      <td>0.393744</td>\n",
       "      <td>0.121564</td>\n",
       "      <td>1.000000</td>\n",
       "      <td>0.091545</td>\n",
       "      <td>0.014971</td>\n",
       "      <td>0.009637</td>\n",
       "    </tr>\n",
       "    <tr>\n",
       "      <th>com_rel</th>\n",
       "      <td>-0.070911</td>\n",
       "      <td>-0.232320</td>\n",
       "      <td>0.091545</td>\n",
       "      <td>1.000000</td>\n",
       "      <td>0.119902</td>\n",
       "      <td>0.064162</td>\n",
       "    </tr>\n",
       "    <tr>\n",
       "      <th>com_lang</th>\n",
       "      <td>0.200079</td>\n",
       "      <td>-0.047185</td>\n",
       "      <td>0.014971</td>\n",
       "      <td>0.119902</td>\n",
       "      <td>1.000000</td>\n",
       "      <td>0.007728</td>\n",
       "    </tr>\n",
       "    <tr>\n",
       "      <th>sumtrade</th>\n",
       "      <td>-0.075671</td>\n",
       "      <td>0.007255</td>\n",
       "      <td>0.009637</td>\n",
       "      <td>0.064162</td>\n",
       "      <td>0.007728</td>\n",
       "      <td>1.000000</td>\n",
       "    </tr>\n",
       "  </tbody>\n",
       "</table>\n",
       "</div>"
      ],
      "text/plain": [
       "              search_score    PopLog   GDP_log   com_rel  com_lang  sumtrade\n",
       "search_score      1.000000  0.332950  0.393744 -0.070911  0.200079 -0.075671\n",
       "PopLog            0.332950  1.000000  0.121564 -0.232320 -0.047185  0.007255\n",
       "GDP_log           0.393744  0.121564  1.000000  0.091545  0.014971  0.009637\n",
       "com_rel          -0.070911 -0.232320  0.091545  1.000000  0.119902  0.064162\n",
       "com_lang          0.200079 -0.047185  0.014971  0.119902  1.000000  0.007728\n",
       "sumtrade         -0.075671  0.007255  0.009637  0.064162  0.007728  1.000000"
      ]
     },
     "execution_count": 72,
     "metadata": {},
     "output_type": "execute_result"
    }
   ],
   "source": [
    "search_pred_df2.loc[:,['search_score','PopLog','GDP_log','com_rel','com_lang','sumtrade']].corr()"
   ]
  },
  {
   "cell_type": "markdown",
   "metadata": {},
   "source": [
    "And now let's see how well we can predict how much countries Google each other!"
   ]
  },
  {
   "cell_type": "code",
   "execution_count": 50,
   "metadata": {
    "collapsed": false
   },
   "outputs": [
    {
     "name": "stdout",
     "output_type": "stream",
     "text": [
      "             Mixed Linear Model Regression Results\n",
      "===============================================================\n",
      "Model:               MixedLM  Dependent Variable:  search_score\n",
      "No. Observations:    1364     Method:              REML        \n",
      "No. Groups:          39       Scale:               26.0027     \n",
      "Min. group size:     26       Likelihood:          -4218.9978  \n",
      "Max. group size:     38       Converged:           Yes         \n",
      "Mean group size:     35.0                                      \n",
      "---------------------------------------------------------------\n",
      "                  Coef.  Std.Err.    z    P>|z|  [0.025  0.975]\n",
      "---------------------------------------------------------------\n",
      "Intercept        -55.889    2.503 -22.324 0.000 -60.795 -50.982\n",
      "com_rel[T.True]   -1.768    0.469  -3.769 0.000  -2.687  -0.849\n",
      "com_lang[T.True]   4.537    0.426  10.639 0.000   3.701   5.373\n",
      "PopLog             3.400    0.252  13.497 0.000   2.906   3.894\n",
      "dist              -0.013    0.003  -4.477 0.000  -0.019  -0.007\n",
      "GDP_log            5.843    0.303  19.265 0.000   5.249   6.438\n",
      "sumtrade          -0.000    0.000  -1.483 0.138  -0.000   0.000\n",
      "Intercept RE       9.434    0.487                              \n",
      "===============================================================\n",
      "\n"
     ]
    }
   ],
   "source": [
    "md = smf.mixedlm('search_score ~PopLog+dist+GDP_log+com_rel+com_lang+sumtrade', search_pred_df2, groups=search_pred_df2['Searcher'])\n",
    "mdf = md.fit() \n",
    "print(mdf.summary())"
   ]
  },
  {
   "cell_type": "markdown",
   "metadata": {},
   "source": [
    "Ok! So all of these things predict how much countries Google each other, except trade."
   ]
  },
  {
   "cell_type": "code",
   "execution_count": 57,
   "metadata": {
    "collapsed": false
   },
   "outputs": [
    {
     "name": "stdout",
     "output_type": "stream",
     "text": [
      "             Mixed Linear Model Regression Results\n",
      "===============================================================\n",
      "Model:               MixedLM  Dependent Variable:  search_score\n",
      "No. Observations:    1560     Method:              REML        \n",
      "No. Groups:          40       Scale:               25.9153     \n",
      "Min. group size:     39       Likelihood:          -4808.8460  \n",
      "Max. group size:     39       Converged:           Yes         \n",
      "Mean group size:     39.0                                      \n",
      "---------------------------------------------------------------\n",
      "                  Coef.  Std.Err.    z    P>|z|  [0.025  0.975]\n",
      "---------------------------------------------------------------\n",
      "Intercept        -55.320    2.085 -26.531 0.000 -59.407 -51.234\n",
      "com_rel[T.True]   -1.562    0.432  -3.617 0.000  -2.408  -0.715\n",
      "com_lang[T.True]   4.743    0.404  11.743 0.000   3.952   5.535\n",
      "PopLog             3.397    0.236  14.419 0.000   2.935   3.858\n",
      "dist              -0.012    0.003  -4.285 0.000  -0.017  -0.006\n",
      "GDP_log            5.295    0.272  19.452 0.000   4.761   5.828\n",
      "Intercept RE       9.131    0.448                              \n",
      "===============================================================\n",
      "\n"
     ]
    }
   ],
   "source": [
    "search_pred_df3=search_pred_df.drop(['Searchee_upper','Searcher_upper','sumtrade'], axis=1)\n",
    "search_pred_df3.loc[:,'PopLog']=np.log10(search_pred_df3.loc[:,'Population'])\n",
    "search_pred_df3.loc[:,'GDP_log']=np.log10(search_pred_df3.loc[:,'GDP (per capita PPP)'])\n",
    "search_pred_df3.reset_index(inplace=True)\n",
    "\n",
    "md = smf.mixedlm('search_score~PopLog+dist+GDP_log+com_rel+com_lang', search_pred_df3, groups=search_pred_df3['Searcher'])\n",
    "mdf = md.fit() \n",
    "print(mdf.summary())"
   ]
  },
  {
   "cell_type": "markdown",
   "metadata": {},
   "source": [
    "# Predicting casualties"
   ]
  },
  {
   "cell_type": "code",
   "execution_count": 94,
   "metadata": {
    "collapsed": false
   },
   "outputs": [
    {
     "data": {
      "text/html": [
       "<div>\n",
       "<table border=\"1\" class=\"dataframe\">\n",
       "  <thead>\n",
       "    <tr style=\"text-align: right;\">\n",
       "      <th></th>\n",
       "      <th>Searchee</th>\n",
       "      <th>Searcher</th>\n",
       "      <th>search_score</th>\n",
       "      <th>Population</th>\n",
       "      <th>GDP (per capita PPP)</th>\n",
       "      <th>com_rel</th>\n",
       "      <th>com_lang</th>\n",
       "      <th>dist</th>\n",
       "      <th>PopLog</th>\n",
       "      <th>GDP_log</th>\n",
       "      <th>mean_cas</th>\n",
       "    </tr>\n",
       "  </thead>\n",
       "  <tbody>\n",
       "    <tr>\n",
       "      <th>0</th>\n",
       "      <td>Japan</td>\n",
       "      <td>United States</td>\n",
       "      <td>-1.124939</td>\n",
       "      <td>126919659</td>\n",
       "      <td>38200</td>\n",
       "      <td>False</td>\n",
       "      <td>False</td>\n",
       "      <td>216.724335</td>\n",
       "      <td>8.103529</td>\n",
       "      <td>4.582063</td>\n",
       "      <td>2.400800</td>\n",
       "    </tr>\n",
       "    <tr>\n",
       "      <th>1</th>\n",
       "      <td>Pakistan</td>\n",
       "      <td>United States</td>\n",
       "      <td>-1.602060</td>\n",
       "      <td>199085847</td>\n",
       "      <td>4900</td>\n",
       "      <td>True</td>\n",
       "      <td>True</td>\n",
       "      <td>150.190787</td>\n",
       "      <td>8.299040</td>\n",
       "      <td>3.690196</td>\n",
       "      <td>2.256767</td>\n",
       "    </tr>\n",
       "    <tr>\n",
       "      <th>2</th>\n",
       "      <td>France</td>\n",
       "      <td>United States</td>\n",
       "      <td>-1.204120</td>\n",
       "      <td>66553766</td>\n",
       "      <td>41400</td>\n",
       "      <td>True</td>\n",
       "      <td>False</td>\n",
       "      <td>79.984592</td>\n",
       "      <td>7.823173</td>\n",
       "      <td>4.617000</td>\n",
       "      <td>2.144102</td>\n",
       "    </tr>\n",
       "    <tr>\n",
       "      <th>3</th>\n",
       "      <td>Russia</td>\n",
       "      <td>United States</td>\n",
       "      <td>-1.204120</td>\n",
       "      <td>142423773</td>\n",
       "      <td>23700</td>\n",
       "      <td>True</td>\n",
       "      <td>False</td>\n",
       "      <td>115.860463</td>\n",
       "      <td>8.153582</td>\n",
       "      <td>4.374748</td>\n",
       "      <td>2.260736</td>\n",
       "    </tr>\n",
       "    <tr>\n",
       "      <th>4</th>\n",
       "      <td>Indonesia</td>\n",
       "      <td>United States</td>\n",
       "      <td>-1.903090</td>\n",
       "      <td>255993674</td>\n",
       "      <td>11300</td>\n",
       "      <td>True</td>\n",
       "      <td>False</td>\n",
       "      <td>189.274663</td>\n",
       "      <td>8.408229</td>\n",
       "      <td>4.053078</td>\n",
       "      <td>2.467763</td>\n",
       "    </tr>\n",
       "  </tbody>\n",
       "</table>\n",
       "</div>"
      ],
      "text/plain": [
       "    Searchee       Searcher  search_score  Population  GDP (per capita PPP)  \\\n",
       "0      Japan  United States     -1.124939   126919659                 38200   \n",
       "1   Pakistan  United States     -1.602060   199085847                  4900   \n",
       "2     France  United States     -1.204120    66553766                 41400   \n",
       "3     Russia  United States     -1.204120   142423773                 23700   \n",
       "4  Indonesia  United States     -1.903090   255993674                 11300   \n",
       "\n",
       "  com_rel com_lang        dist    PopLog   GDP_log  mean_cas  \n",
       "0   False    False  216.724335  8.103529  4.582063  2.400800  \n",
       "1    True     True  150.190787  8.299040  3.690196  2.256767  \n",
       "2    True    False   79.984592  7.823173  4.617000  2.144102  \n",
       "3    True    False  115.860463  8.153582  4.374748  2.260736  \n",
       "4    True    False  189.274663  8.408229  4.053078  2.467763  "
      ]
     },
     "execution_count": 94,
     "metadata": {},
     "output_type": "execute_result"
    }
   ],
   "source": [
    "usa_search=search_pred_df3.loc[search_pred_df3['Searcher']=='United States',:].reset_index()\n",
    "\n",
    "usa_search=pd.merge(usa_search,searchee_df2.loc[:,['Searchee','mean_cas']],on='Searchee')\n",
    "# Removing Liberia since Americans don't actually seem to know what it is\n",
    "usa_search=usa_search.loc[usa_search.Searchee!='Liberia',:]\n",
    "usa_search.drop(['level_0','index'],axis=1,inplace=True)\n",
    "usa_search.head()"
   ]
  },
  {
   "cell_type": "code",
   "execution_count": 95,
   "metadata": {
    "collapsed": false
   },
   "outputs": [
    {
     "name": "stdout",
     "output_type": "stream",
     "text": [
      "           Mixed Linear Model Regression Results\n",
      "===========================================================\n",
      "Model:               MixedLM  Dependent Variable:  mean_cas\n",
      "No. Observations:    38       Method:              REML    \n",
      "No. Groups:          1        Scale:               0.0224  \n",
      "Min. group size:     38       Likelihood:          4.0371  \n",
      "Max. group size:     38       Converged:           Yes     \n",
      "Mean group size:     38.0                                  \n",
      "-----------------------------------------------------------\n",
      "                 Coef.  Std.Err.   z    P>|z| [0.025 0.975]\n",
      "-----------------------------------------------------------\n",
      "Intercept         3.156    0.467  6.765 0.000  2.241  4.070\n",
      "com_rel[T.True]  -0.103    0.091 -1.125 0.261 -0.282  0.076\n",
      "com_lang[T.True] -0.080    0.053 -1.501 0.133 -0.184  0.024\n",
      "PopLog           -0.002    0.049 -0.038 0.970 -0.098  0.094\n",
      "dist              0.000    0.001  0.161 0.872 -0.001  0.001\n",
      "GDP_log          -0.189    0.055 -3.417 0.001 -0.297 -0.081\n",
      "Intercept RE      0.022                                    \n",
      "===========================================================\n",
      "\n"
     ]
    }
   ],
   "source": [
    "md = smf.mixedlm('mean_cas~PopLog+dist+com_rel+com_lang+GDP_log', usa_search, groups=usa_search['Searcher'])\n",
    "mdf = md.fit() \n",
    "print(mdf.summary())"
   ]
  },
  {
   "cell_type": "markdown",
   "metadata": {},
   "source": [
    "Ok so it comes down to--Americans' expectations are determined almost solely by how wealthy a country is: The wealthier another country is, the fewer casualties there have to be for Americans to care. \n",
    "\n",
    "This requires further interpretation. Americans could be elitist--as the country with the highest GDP in the world, we only care about other countries with high GDPs--or it could be rational--a high GDP tends to translate into robust infrastructures that are robust to disasters like earthquakes. One way to get around this confound in the future could be to use another type of disaster that is less dependent on the quality of a country's infrastructure."
   ]
  },
  {
   "cell_type": "code",
   "execution_count": null,
   "metadata": {
    "collapsed": true
   },
   "outputs": [],
   "source": []
  }
 ],
 "metadata": {
  "kernelspec": {
   "display_name": "Python 2",
   "language": "python",
   "name": "python2"
  },
  "language_info": {
   "codemirror_mode": {
    "name": "ipython",
    "version": 2
   },
   "file_extension": ".py",
   "mimetype": "text/x-python",
   "name": "python",
   "nbconvert_exporter": "python",
   "pygments_lexer": "ipython2",
   "version": "2.7.9"
  }
 },
 "nbformat": 4,
 "nbformat_minor": 0
}
